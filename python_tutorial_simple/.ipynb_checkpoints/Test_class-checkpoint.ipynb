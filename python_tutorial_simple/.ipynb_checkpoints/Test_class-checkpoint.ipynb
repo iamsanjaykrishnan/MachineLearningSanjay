{
 "cells": [
  {
   "cell_type": "code",
   "execution_count": 2,
   "metadata": {},
   "outputs": [],
   "source": [
    "class Calculator:\n",
    "    def __init__(self, num1, num2): # constructor\n",
    "        self.num1 = num1 # public\n",
    "        self._num2 = num2 # private\n",
    "    def Add(self): # class functions\n",
    "        return self.num1 + self._num2\n",
    "    def Subtraction(self): # class functions\n",
    "        return self.num1 - self._num2"
   ]
  },
  {
   "cell_type": "code",
   "execution_count": null,
   "metadata": {},
   "outputs": [],
   "source": []
  }
 ],
 "metadata": {
  "kernelspec": {
   "display_name": "Python 3",
   "language": "python",
   "name": "python3"
  },
  "language_info": {
   "codemirror_mode": {
    "name": "ipython",
    "version": 3
   },
   "file_extension": ".py",
   "mimetype": "text/x-python",
   "name": "python",
   "nbconvert_exporter": "python",
   "pygments_lexer": "ipython3",
   "version": "3.6.4"
  }
 },
 "nbformat": 4,
 "nbformat_minor": 2
}
