{
 "cells": [
  {
   "cell_type": "markdown",
   "metadata": {},
   "source": [
    "# Basics\n",
    "- variables \n",
    "- print \n",
    "- addition\n",
    "- for loop\n",
    "- Data types"
   ]
  },
  {
   "cell_type": "code",
   "execution_count": 1,
   "metadata": {},
   "outputs": [],
   "source": [
    "var1 = 10 \n",
    "var2 = 'patrick'"
   ]
  },
  {
   "cell_type": "code",
   "execution_count": 2,
   "metadata": {},
   "outputs": [
    {
     "name": "stdout",
     "output_type": "stream",
     "text": [
      "10\n",
      "patrick\n"
     ]
    }
   ],
   "source": [
    "print(var1)\n",
    "print(var2)"
   ]
  },
  {
   "cell_type": "code",
   "execution_count": 6,
   "metadata": {},
   "outputs": [],
   "source": [
    "var3 = 4+5\n",
    "var4 ='patrick '+'pollak' "
   ]
  },
  {
   "cell_type": "code",
   "execution_count": 4,
   "metadata": {},
   "outputs": [
    {
     "name": "stdout",
     "output_type": "stream",
     "text": [
      "9\n",
      "patrick pollak\n"
     ]
    }
   ],
   "source": [
    "print(var3)\n",
    "print(var4)"
   ]
  },
  {
   "cell_type": "code",
   "execution_count": 9,
   "metadata": {},
   "outputs": [
    {
     "name": "stdout",
     "output_type": "stream",
     "text": [
      "iteration 0\n",
      "iteration 1\n",
      "iteration 2\n"
     ]
    }
   ],
   "source": [
    "for x in range(0, 3):\n",
    "    print(\"iteration\",(x))"
   ]
  },
  {
   "cell_type": "code",
   "execution_count": 11,
   "metadata": {},
   "outputs": [
    {
     "name": "stdout",
     "output_type": "stream",
     "text": [
      "iteration 1\n",
      "iteration 5\n",
      "iteration 10\n"
     ]
    }
   ],
   "source": [
    "list1 = [1,5,10]\n",
    "for x in list1:\n",
    "    print(\"iteration\",(x))"
   ]
  },
  {
   "cell_type": "markdown",
   "metadata": {},
   "source": [
    "# important data types \n",
    "- lists []\n",
    "- tuples ()\n",
    "- dictionary {}\n",
    "- arrays : it is defined using numpy library \n",
    "\n",
    "indexing in python starts with 0"
   ]
  },
  {
   "cell_type": "code",
   "execution_count": 18,
   "metadata": {},
   "outputs": [
    {
     "name": "stdout",
     "output_type": "stream",
     "text": [
      "['orange', 'apple', 2, 'banana', 'kiwi', 'apple', 'banana']\n"
     ]
    }
   ],
   "source": [
    "# lists https://docs.python.org/2/tutorial/datastructures.html\n",
    "fruits = ['orange', 'apple', 'pear', 'banana', 'kiwi', 'apple', 'banana']\n",
    "#print(fruits.index('banana',4))\n",
    "\n",
    "# = between two objects doesnt get copied. It is just referneced\n",
    "fruits2 = fruits\n",
    "fruits2[2] = 2\n",
    "\n",
    "print(fruits)"
   ]
  },
  {
   "cell_type": "code",
   "execution_count": 20,
   "metadata": {},
   "outputs": [
    {
     "name": "stdout",
     "output_type": "stream",
     "text": [
      "['orange', 'apple', 'pear', 'banana', 'kiwi', 'apple', 'banana']\n"
     ]
    }
   ],
   "source": [
    "# copy list\n",
    "fruits = ['orange', 'apple', 'pear', 'banana', 'kiwi', 'apple', 'banana']\n",
    "import copy\n",
    "fruits3 = copy.copy(fruits)\n",
    "fruits2[2] = 2\n",
    "\n",
    "print(fruits)"
   ]
  },
  {
   "cell_type": "code",
   "execution_count": 21,
   "metadata": {},
   "outputs": [
    {
     "name": "stdout",
     "output_type": "stream",
     "text": [
      "(1, 2, 3, 4, 5, 1, 2, 3, 4, 5)\n"
     ]
    }
   ],
   "source": [
    "# tuples https://www.tutorialspoint.com/python/python_tuples.htm\n",
    "tup1 = (1, 2, 3, 4, 5 )\n",
    "tup2 = (1, 2, 3, 4, 5 )\n",
    "print(tup1 + tup2) # adding just concatenates tuples\n"
   ]
  },
  {
   "cell_type": "code",
   "execution_count": 29,
   "metadata": {},
   "outputs": [],
   "source": [
    "# dictionary \n",
    "Kokosnuss = {'energie': 83, 'fett': 0.5, 'salz': 0.25, 'marke': 'Solevita'}"
   ]
  },
  {
   "cell_type": "code",
   "execution_count": 30,
   "metadata": {},
   "outputs": [
    {
     "name": "stdout",
     "output_type": "stream",
     "text": [
      "0.25\n"
     ]
    }
   ],
   "source": [
    "print(Kokosnuss['salz'])"
   ]
  },
  {
   "cell_type": "code",
   "execution_count": 31,
   "metadata": {},
   "outputs": [
    {
     "name": "stdout",
     "output_type": "stream",
     "text": [
      "14\n"
     ]
    }
   ],
   "source": [
    "# array\n",
    "import numpy as np\n",
    "vect1 = np.array([1, 2, 3])\n",
    "vec2 = np.array([1, 2, 3])\n",
    "mag = np.dot(vect1, vec2)\n",
    "print(mag)"
   ]
  },
  {
   "cell_type": "code",
   "execution_count": null,
   "metadata": {},
   "outputs": [],
   "source": []
  }
 ],
 "metadata": {
  "kernelspec": {
   "display_name": "Python 3",
   "language": "python",
   "name": "python3"
  },
  "language_info": {
   "codemirror_mode": {
    "name": "ipython",
    "version": 3
   },
   "file_extension": ".py",
   "mimetype": "text/x-python",
   "name": "python",
   "nbconvert_exporter": "python",
   "pygments_lexer": "ipython3",
   "version": "3.6.4"
  }
 },
 "nbformat": 4,
 "nbformat_minor": 2
}
