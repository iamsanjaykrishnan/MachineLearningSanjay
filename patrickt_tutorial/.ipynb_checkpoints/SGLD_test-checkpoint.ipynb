{
 "cells": [
  {
   "cell_type": "code",
   "execution_count": 18,
   "metadata": {},
   "outputs": [],
   "source": [
    "import tensorflow as tf\n",
    "import tensorflow_probability as tfp"
   ]
  },
  {
   "cell_type": "code",
   "execution_count": 19,
   "metadata": {},
   "outputs": [],
   "source": [
    "import numpy as np\n",
    "time = np.linspace(0,10,100)\n",
    "sinus = np.sin(time)\n",
    "noise1 = np.random.normal(0,0.1,time.shape)\n",
    "noise2 = np.random.normal(0,0.1,time.shape)\n",
    "noised_sinus1 = sinus + noise1\n",
    "noised_sinus2 = sinus + noise2\n",
    "noised_sinus = np.hstack((noised_sinus1,noised_sinus2))\n",
    "time_combined = np.hstack((time,time))\n",
    "noised_sinus = noised_sinus.reshape(-1,1)\n",
    "time_combined = time_combined.reshape(-1,1)\n"
   ]
  },
  {
   "cell_type": "code",
   "execution_count": 20,
   "metadata": {},
   "outputs": [
    {
     "name": "stdout",
     "output_type": "stream",
     "text": [
      "(200, 1)\n"
     ]
    }
   ],
   "source": [
    "print(time_combined.shape)"
   ]
  },
  {
   "cell_type": "code",
   "execution_count": 21,
   "metadata": {},
   "outputs": [
    {
     "name": "stderr",
     "output_type": "stream",
     "text": [
      "c:\\users\\sanjay\\anaconda3\\lib\\site-packages\\ipywidgets\\widgets\\widget.py:409: DeprecationWarning: Passing unrecoginized arguments to super(FigureCanvasNbAgg).__init__().\n",
      "__init__() missing 1 required positional argument: 'figure'\n",
      "This is deprecated in traitlets 4.2.This error will be raised in a future release of traitlets.\n",
      "  super(Widget, self).__init__(**kwargs)\n"
     ]
    },
    {
     "data": {
      "application/vnd.jupyter.widget-view+json": {
       "model_id": "c0cbde9ba1d34c3ea2e6ec838c90477e",
       "version_major": 2,
       "version_minor": 0
      },
      "text/html": [
       "<p>Failed to display Jupyter Widget of type <code>FigureCanvasNbAgg</code>.</p>\n",
       "<p>\n",
       "  If you're reading this message in the Jupyter Notebook or JupyterLab Notebook, it may mean\n",
       "  that the widgets JavaScript is still loading. If this message persists, it\n",
       "  likely means that the widgets JavaScript library is either not installed or\n",
       "  not enabled. See the <a href=\"https://ipywidgets.readthedocs.io/en/stable/user_install.html\">Jupyter\n",
       "  Widgets Documentation</a> for setup instructions.\n",
       "</p>\n",
       "<p>\n",
       "  If you're reading this message in another frontend (for example, a static\n",
       "  rendering on GitHub or <a href=\"https://nbviewer.jupyter.org/\">NBViewer</a>),\n",
       "  it may mean that your frontend doesn't currently support widgets.\n",
       "</p>\n"
      ],
      "text/plain": [
       "FigureCanvasNbAgg()"
      ]
     },
     "metadata": {},
     "output_type": "display_data"
    },
    {
     "data": {
      "text/plain": [
       "[<matplotlib.lines.Line2D at 0x1ff3ad39eb8>]"
      ]
     },
     "execution_count": 21,
     "metadata": {},
     "output_type": "execute_result"
    }
   ],
   "source": [
    "%matplotlib ipympl\n",
    "import matplotlib.pyplot as plt\n",
    "fig = plt.figure()\n",
    "ax = fig.add_subplot(1,1,1)\n",
    "ax.plot(time, noised_sinus1)\n",
    "ax.plot(time, noised_sinus2)"
   ]
  },
  {
   "cell_type": "code",
   "execution_count": 22,
   "metadata": {},
   "outputs": [
    {
     "name": "stdout",
     "output_type": "stream",
     "text": [
      "Level 1:tensorflow:Created variable sequential/dense_flipout/kernel_posterior_loc:0 with shape (1, 10) and init <tensorflow.python.ops.init_ops.RandomNormal object at 0x000001FF3651AA58>\n",
      "Level 1:tensorflow:Created variable sequential/dense_flipout/kernel_posterior_untransformed_scale:0 with shape (1, 10) and init <tensorflow.python.ops.init_ops.RandomNormal object at 0x000001FF3651AA90>\n",
      "Level 1:tensorflow:Created variable sequential/dense_flipout/bias_posterior_loc:0 with shape (10,) and init <tensorflow.python.ops.init_ops.RandomNormal object at 0x000001FF3651AA58>\n",
      "Level 1:tensorflow:Created variable sequential/dense_flipout_1/kernel_posterior_loc:0 with shape (10, 10) and init <tensorflow.python.ops.init_ops.RandomNormal object at 0x000001FF3651AA58>\n",
      "Level 1:tensorflow:Created variable sequential/dense_flipout_1/kernel_posterior_untransformed_scale:0 with shape (10, 10) and init <tensorflow.python.ops.init_ops.RandomNormal object at 0x000001FF3651AA90>\n",
      "Level 1:tensorflow:Created variable sequential/dense_flipout_1/bias_posterior_loc:0 with shape (10,) and init <tensorflow.python.ops.init_ops.RandomNormal object at 0x000001FF3651AA58>\n"
     ]
    },
    {
     "name": "stderr",
     "output_type": "stream",
     "text": [
      "c:\\users\\sanjay\\anaconda3\\lib\\site-packages\\tensorflow\\python\\util\\tf_inspect.py:45: DeprecationWarning: inspect.getargspec() is deprecated, use inspect.signature() or inspect.getfullargspec()\n",
      "  if d.decorator_argspec is not None), _inspect.getargspec(target))\n",
      "c:\\users\\sanjay\\anaconda3\\lib\\site-packages\\tensorflow\\python\\util\\tf_inspect.py:45: DeprecationWarning: inspect.getargspec() is deprecated, use inspect.signature() or inspect.getfullargspec()\n",
      "  if d.decorator_argspec is not None), _inspect.getargspec(target))\n"
     ]
    },
    {
     "name": "stdout",
     "output_type": "stream",
     "text": [
      "Level 1:tensorflow:Created variable sequential/dense_flipout_2/kernel_posterior_loc:0 with shape (10, 1) and init <tensorflow.python.ops.init_ops.RandomNormal object at 0x000001FF3651AA58>\n",
      "Level 1:tensorflow:Created variable sequential/dense_flipout_2/kernel_posterior_untransformed_scale:0 with shape (10, 1) and init <tensorflow.python.ops.init_ops.RandomNormal object at 0x000001FF3651AA90>\n",
      "Level 1:tensorflow:Created variable sequential/dense_flipout_2/bias_posterior_loc:0 with shape (1,) and init <tensorflow.python.ops.init_ops.RandomNormal object at 0x000001FF3651AA58>\n"
     ]
    },
    {
     "name": "stderr",
     "output_type": "stream",
     "text": [
      "c:\\users\\sanjay\\anaconda3\\lib\\site-packages\\tensorflow\\python\\util\\tf_inspect.py:45: DeprecationWarning: inspect.getargspec() is deprecated, use inspect.signature() or inspect.getfullargspec()\n",
      "  if d.decorator_argspec is not None), _inspect.getargspec(target))\n",
      "c:\\users\\sanjay\\anaconda3\\lib\\site-packages\\tensorflow\\python\\util\\tf_inspect.py:45: DeprecationWarning: inspect.getargspec() is deprecated, use inspect.signature() or inspect.getfullargspec()\n",
      "  if d.decorator_argspec is not None), _inspect.getargspec(target))\n",
      "c:\\users\\sanjay\\anaconda3\\lib\\site-packages\\tensorflow\\python\\util\\tf_inspect.py:45: DeprecationWarning: inspect.getargspec() is deprecated, use inspect.signature() or inspect.getfullargspec()\n",
      "  if d.decorator_argspec is not None), _inspect.getargspec(target))\n",
      "c:\\users\\sanjay\\anaconda3\\lib\\site-packages\\tensorflow\\python\\util\\tf_inspect.py:45: DeprecationWarning: inspect.getargspec() is deprecated, use inspect.signature() or inspect.getfullargspec()\n",
      "  if d.decorator_argspec is not None), _inspect.getargspec(target))\n",
      "c:\\users\\sanjay\\anaconda3\\lib\\site-packages\\tensorflow\\python\\util\\tf_inspect.py:45: DeprecationWarning: inspect.getargspec() is deprecated, use inspect.signature() or inspect.getfullargspec()\n",
      "  if d.decorator_argspec is not None), _inspect.getargspec(target))\n",
      "c:\\users\\sanjay\\anaconda3\\lib\\site-packages\\tensorflow\\python\\util\\tf_inspect.py:45: DeprecationWarning: inspect.getargspec() is deprecated, use inspect.signature() or inspect.getfullargspec()\n",
      "  if d.decorator_argspec is not None), _inspect.getargspec(target))\n",
      "c:\\users\\sanjay\\anaconda3\\lib\\site-packages\\tensorflow\\python\\util\\tf_inspect.py:45: DeprecationWarning: inspect.getargspec() is deprecated, use inspect.signature() or inspect.getfullargspec()\n",
      "  if d.decorator_argspec is not None), _inspect.getargspec(target))\n",
      "c:\\users\\sanjay\\anaconda3\\lib\\site-packages\\tensorflow\\python\\util\\tf_inspect.py:45: DeprecationWarning: inspect.getargspec() is deprecated, use inspect.signature() or inspect.getfullargspec()\n",
      "  if d.decorator_argspec is not None), _inspect.getargspec(target))\n",
      "c:\\users\\sanjay\\anaconda3\\lib\\site-packages\\tensorflow\\python\\util\\tf_inspect.py:45: DeprecationWarning: inspect.getargspec() is deprecated, use inspect.signature() or inspect.getfullargspec()\n",
      "  if d.decorator_argspec is not None), _inspect.getargspec(target))\n"
     ]
    },
    {
     "name": "stdout",
     "output_type": "stream",
     "text": [
      "Level 1:tensorflow:Created variable StochasticGradientLangevinDynamics/StochasticGradientLangevinDynamics/counter:0 with shape <unknown> and init 0\n",
      "Level 1:tensorflow:Gradient for 'mean_squared_error/value'\n",
      "Level 1:tensorflow:  in  --> gradients/Fill:0\n",
      "Level 1:tensorflow:  out --> gradients/mean_squared_error/value_grad/tuple/control_dependency:0, gradients/mean_squared_error/value_grad/tuple/control_dependency_1:0\n",
      "Level 1:tensorflow:Gradient for 'mean_squared_error/div'\n",
      "Level 1:tensorflow:  in  --> gradients/mean_squared_error/value_grad/tuple/control_dependency:0\n"
     ]
    },
    {
     "name": "stderr",
     "output_type": "stream",
     "text": [
      "c:\\users\\sanjay\\anaconda3\\lib\\site-packages\\tensorflow\\python\\util\\tf_inspect.py:45: DeprecationWarning: inspect.getargspec() is deprecated, use inspect.signature() or inspect.getfullargspec()\n",
      "  if d.decorator_argspec is not None), _inspect.getargspec(target))\n",
      "c:\\users\\sanjay\\anaconda3\\lib\\site-packages\\tensorflow\\python\\util\\tf_inspect.py:45: DeprecationWarning: inspect.getargspec() is deprecated, use inspect.signature() or inspect.getfullargspec()\n",
      "  if d.decorator_argspec is not None), _inspect.getargspec(target))\n",
      "c:\\users\\sanjay\\anaconda3\\lib\\site-packages\\tensorflow\\python\\util\\tf_inspect.py:45: DeprecationWarning: inspect.getargspec() is deprecated, use inspect.signature() or inspect.getfullargspec()\n",
      "  if d.decorator_argspec is not None), _inspect.getargspec(target))\n",
      "c:\\users\\sanjay\\anaconda3\\lib\\site-packages\\tensorflow\\python\\util\\tf_inspect.py:45: DeprecationWarning: inspect.getargspec() is deprecated, use inspect.signature() or inspect.getfullargspec()\n",
      "  if d.decorator_argspec is not None), _inspect.getargspec(target))\n",
      "c:\\users\\sanjay\\anaconda3\\lib\\site-packages\\tensorflow\\python\\util\\tf_inspect.py:45: DeprecationWarning: inspect.getargspec() is deprecated, use inspect.signature() or inspect.getfullargspec()\n",
      "  if d.decorator_argspec is not None), _inspect.getargspec(target))\n",
      "c:\\users\\sanjay\\anaconda3\\lib\\site-packages\\tensorflow\\python\\util\\tf_inspect.py:45: DeprecationWarning: inspect.getargspec() is deprecated, use inspect.signature() or inspect.getfullargspec()\n",
      "  if d.decorator_argspec is not None), _inspect.getargspec(target))\n",
      "c:\\users\\sanjay\\anaconda3\\lib\\site-packages\\tensorflow\\python\\util\\tf_inspect.py:45: DeprecationWarning: inspect.getargspec() is deprecated, use inspect.signature() or inspect.getfullargspec()\n",
      "  if d.decorator_argspec is not None), _inspect.getargspec(target))\n",
      "c:\\users\\sanjay\\anaconda3\\lib\\site-packages\\tensorflow\\python\\util\\tf_inspect.py:45: DeprecationWarning: inspect.getargspec() is deprecated, use inspect.signature() or inspect.getfullargspec()\n",
      "  if d.decorator_argspec is not None), _inspect.getargspec(target))\n",
      "c:\\users\\sanjay\\anaconda3\\lib\\site-packages\\tensorflow\\python\\util\\tf_inspect.py:45: DeprecationWarning: inspect.getargspec() is deprecated, use inspect.signature() or inspect.getfullargspec()\n",
      "  if d.decorator_argspec is not None), _inspect.getargspec(target))\n",
      "c:\\users\\sanjay\\anaconda3\\lib\\site-packages\\tensorflow\\python\\util\\tf_inspect.py:45: DeprecationWarning: inspect.getargspec() is deprecated, use inspect.signature() or inspect.getfullargspec()\n",
      "  if d.decorator_argspec is not None), _inspect.getargspec(target))\n",
      "c:\\users\\sanjay\\anaconda3\\lib\\site-packages\\tensorflow\\python\\util\\tf_inspect.py:45: DeprecationWarning: inspect.getargspec() is deprecated, use inspect.signature() or inspect.getfullargspec()\n",
      "  if d.decorator_argspec is not None), _inspect.getargspec(target))\n",
      "c:\\users\\sanjay\\anaconda3\\lib\\site-packages\\tensorflow\\python\\util\\tf_inspect.py:45: DeprecationWarning: inspect.getargspec() is deprecated, use inspect.signature() or inspect.getfullargspec()\n",
      "  if d.decorator_argspec is not None), _inspect.getargspec(target))\n",
      "c:\\users\\sanjay\\anaconda3\\lib\\site-packages\\tensorflow\\python\\util\\tf_inspect.py:45: DeprecationWarning: inspect.getargspec() is deprecated, use inspect.signature() or inspect.getfullargspec()\n",
      "  if d.decorator_argspec is not None), _inspect.getargspec(target))\n",
      "c:\\users\\sanjay\\anaconda3\\lib\\site-packages\\tensorflow\\python\\util\\tf_inspect.py:45: DeprecationWarning: inspect.getargspec() is deprecated, use inspect.signature() or inspect.getfullargspec()\n",
      "  if d.decorator_argspec is not None), _inspect.getargspec(target))\n",
      "c:\\users\\sanjay\\anaconda3\\lib\\site-packages\\tensorflow\\python\\util\\tf_inspect.py:45: DeprecationWarning: inspect.getargspec() is deprecated, use inspect.signature() or inspect.getfullargspec()\n",
      "  if d.decorator_argspec is not None), _inspect.getargspec(target))\n"
     ]
    },
    {
     "name": "stdout",
     "output_type": "stream",
     "text": [
      "Level 1:tensorflow:  out --> gradients/mean_squared_error/div_grad/tuple/control_dependency:0, gradients/mean_squared_error/div_grad/tuple/control_dependency_1:0\n",
      "Level 1:tensorflow:Gradient for 'mean_squared_error/Sum_1'\n",
      "Level 1:tensorflow:  in  --> gradients/mean_squared_error/div_grad/tuple/control_dependency:0\n",
      "Level 1:tensorflow:  out --> gradients/mean_squared_error/Sum_1_grad/Tile:0\n",
      "Level 1:tensorflow:Gradient for 'mean_squared_error/Select'\n",
      "Level 1:tensorflow:  in  --> gradients/mean_squared_error/div_grad/tuple/control_dependency_1:0\n",
      "Level 1:tensorflow:  out --> gradients/mean_squared_error/Select_grad/tuple/control_dependency:0, gradients/mean_squared_error/Select_grad/tuple/control_dependency_1:0\n",
      "Level 1:tensorflow:Gradient for 'mean_squared_error/Sum'\n",
      "Level 1:tensorflow:  in  --> gradients/mean_squared_error/Sum_1_grad/Tile:0\n",
      "Level 1:tensorflow:  out --> gradients/mean_squared_error/Sum_grad/Tile:0\n",
      "Level 1:tensorflow:Gradient for 'mean_squared_error/Mul'\n",
      "Level 1:tensorflow:  in  --> gradients/mean_squared_error/Sum_grad/Tile:0\n",
      "Level 1:tensorflow:  out --> gradients/mean_squared_error/Mul_grad/tuple/control_dependency:0, gradients/mean_squared_error/Mul_grad/tuple/control_dependency_1:0\n",
      "Level 1:tensorflow:Gradient for 'mean_squared_error/num_present'\n",
      "Level 1:tensorflow:  in  --> gradients/mean_squared_error/Select_grad/tuple/control_dependency_1:0\n",
      "Level 1:tensorflow:  out --> gradients/mean_squared_error/num_present_grad/Tile:0\n",
      "Level 1:tensorflow:Gradient for 'mean_squared_error/num_present/broadcast_weights'\n",
      "Level 1:tensorflow:  in  --> gradients/mean_squared_error/num_present_grad/Tile:0\n",
      "Level 1:tensorflow:  out --> gradients/mean_squared_error/num_present/broadcast_weights_grad/tuple/control_dependency:0, gradients/mean_squared_error/num_present/broadcast_weights_grad/tuple/control_dependency_1:0\n",
      "Level 1:tensorflow:Gradient for 'mean_squared_error/num_present/broadcast_weights/ones_like'\n",
      "Level 1:tensorflow:  in  --> gradients/mean_squared_error/num_present/broadcast_weights_grad/tuple/control_dependency_1:0\n",
      "Level 1:tensorflow:  out --> gradients/mean_squared_error/num_present/broadcast_weights/ones_like_grad/Sum:0\n",
      "Level 1:tensorflow:Gradient for 'mean_squared_error/SquaredDifference'\n",
      "Level 1:tensorflow:  in  --> gradients/mean_squared_error/Mul_grad/tuple/control_dependency:0\n",
      "Level 1:tensorflow:  out --> gradients/mean_squared_error/SquaredDifference_grad/tuple/control_dependency:0, gradients/mean_squared_error/SquaredDifference_grad/tuple/control_dependency_1:0\n",
      "Level 1:tensorflow:Gradient for 'sequential/dense_flipout_3/Tanh'\n",
      "Level 1:tensorflow:  in  --> gradients/mean_squared_error/SquaredDifference_grad/tuple/control_dependency:0\n",
      "Level 1:tensorflow:  out --> gradients/sequential/dense_flipout_3/Tanh_grad/TanhGrad:0\n",
      "Level 1:tensorflow:Gradient for 'sequential/dense_flipout_3/BiasAdd'\n",
      "Level 1:tensorflow:  in  --> gradients/sequential/dense_flipout_3/Tanh_grad/TanhGrad:0\n",
      "Level 1:tensorflow:  out --> gradients/sequential/dense_flipout_3/BiasAdd_grad/tuple/control_dependency:0, gradients/sequential/dense_flipout_3/BiasAdd_grad/tuple/control_dependency_1:0\n",
      "Level 1:tensorflow:Gradient for 'sequential/dense_flipout_3/add'\n",
      "Level 1:tensorflow:  in  --> gradients/sequential/dense_flipout_3/BiasAdd_grad/tuple/control_dependency:0\n",
      "Level 1:tensorflow:  out --> gradients/sequential/dense_flipout_3/add_grad/tuple/control_dependency:0, gradients/sequential/dense_flipout_3/add_grad/tuple/control_dependency_1:0\n",
      "Level 1:tensorflow:Gradient for 'sequential/dense_flipout_3/IndependentDeterministic/sample/Reshape'\n",
      "Level 1:tensorflow:  in  --> gradients/sequential/dense_flipout_3/BiasAdd_grad/tuple/control_dependency_1:0\n",
      "Level 1:tensorflow:  out --> gradients/sequential/dense_flipout_3/IndependentDeterministic/sample/Reshape_grad/Reshape:0\n",
      "Level 1:tensorflow:Gradient for 'sequential/dense_flipout_3/MatMul_1'\n",
      "Level 1:tensorflow:  in  --> gradients/sequential/dense_flipout_3/add_grad/tuple/control_dependency:0\n",
      "Level 1:tensorflow:  out --> gradients/sequential/dense_flipout_3/MatMul_1_grad/tuple/control_dependency:0, gradients/sequential/dense_flipout_3/MatMul_1_grad/tuple/control_dependency_1:0\n",
      "Level 1:tensorflow:Gradient for 'sequential/dense_flipout_3/mul_3'\n",
      "Level 1:tensorflow:  in  --> gradients/sequential/dense_flipout_3/add_grad/tuple/control_dependency_1:0\n",
      "Level 1:tensorflow:  out --> gradients/sequential/dense_flipout_3/mul_3_grad/tuple/control_dependency:0, gradients/sequential/dense_flipout_3/mul_3_grad/tuple/control_dependency_1:0\n",
      "Level 1:tensorflow:Gradient for 'sequential/dense_flipout_3/IndependentDeterministic/sample/Deterministic/sample/Reshape'\n",
      "Level 1:tensorflow:  in  --> gradients/sequential/dense_flipout_3/IndependentDeterministic/sample/Reshape_grad/Reshape:0\n",
      "Level 1:tensorflow:  out --> gradients/sequential/dense_flipout_3/IndependentDeterministic/sample/Deterministic/sample/Reshape_grad/Reshape:0\n",
      "Level 1:tensorflow:Gradient for 'sequential/dense_flipout_2/Normal/loc'\n",
      "Level 1:tensorflow:  in  --> gradients/sequential/dense_flipout_3/MatMul_1_grad/tuple/control_dependency_1:0\n",
      "Level 1:tensorflow:  out --> gradients/sequential/dense_flipout_3/MatMul_1_grad/tuple/control_dependency_1:0\n",
      "Level 1:tensorflow:Gradient for 'sequential/dense_flipout_3/MatMul'\n",
      "Level 1:tensorflow:  in  --> gradients/sequential/dense_flipout_3/mul_3_grad/tuple/control_dependency:0\n",
      "Level 1:tensorflow:  out --> gradients/sequential/dense_flipout_3/MatMul_grad/tuple/control_dependency:0, gradients/sequential/dense_flipout_3/MatMul_grad/tuple/control_dependency_1:0\n",
      "Level 1:tensorflow:Gradient for 'sequential/dense_flipout_3/Cast_1'\n",
      "Level 1:tensorflow:  in  --> gradients/sequential/dense_flipout_3/mul_3_grad/tuple/control_dependency_1:0\n"
     ]
    },
    {
     "name": "stderr",
     "output_type": "stream",
     "text": [
      "c:\\users\\sanjay\\anaconda3\\lib\\site-packages\\tensorflow\\python\\util\\tf_inspect.py:45: DeprecationWarning: inspect.getargspec() is deprecated, use inspect.signature() or inspect.getfullargspec()\n",
      "  if d.decorator_argspec is not None), _inspect.getargspec(target))\n",
      "c:\\users\\sanjay\\anaconda3\\lib\\site-packages\\tensorflow\\python\\util\\tf_inspect.py:45: DeprecationWarning: inspect.getargspec() is deprecated, use inspect.signature() or inspect.getfullargspec()\n",
      "  if d.decorator_argspec is not None), _inspect.getargspec(target))\n",
      "c:\\users\\sanjay\\anaconda3\\lib\\site-packages\\tensorflow\\python\\util\\tf_inspect.py:45: DeprecationWarning: inspect.getargspec() is deprecated, use inspect.signature() or inspect.getfullargspec()\n",
      "  if d.decorator_argspec is not None), _inspect.getargspec(target))\n",
      "c:\\users\\sanjay\\anaconda3\\lib\\site-packages\\tensorflow\\python\\util\\tf_inspect.py:45: DeprecationWarning: inspect.getargspec() is deprecated, use inspect.signature() or inspect.getfullargspec()\n",
      "  if d.decorator_argspec is not None), _inspect.getargspec(target))\n",
      "c:\\users\\sanjay\\anaconda3\\lib\\site-packages\\tensorflow\\python\\util\\tf_inspect.py:45: DeprecationWarning: inspect.getargspec() is deprecated, use inspect.signature() or inspect.getfullargspec()\n",
      "  if d.decorator_argspec is not None), _inspect.getargspec(target))\n",
      "c:\\users\\sanjay\\anaconda3\\lib\\site-packages\\tensorflow\\python\\util\\tf_inspect.py:45: DeprecationWarning: inspect.getargspec() is deprecated, use inspect.signature() or inspect.getfullargspec()\n",
      "  if d.decorator_argspec is not None), _inspect.getargspec(target))\n",
      "c:\\users\\sanjay\\anaconda3\\lib\\site-packages\\tensorflow\\python\\util\\tf_inspect.py:45: DeprecationWarning: inspect.getargspec() is deprecated, use inspect.signature() or inspect.getfullargspec()\n",
      "  if d.decorator_argspec is not None), _inspect.getargspec(target))\n",
      "c:\\users\\sanjay\\anaconda3\\lib\\site-packages\\tensorflow\\python\\util\\tf_inspect.py:45: DeprecationWarning: inspect.getargspec() is deprecated, use inspect.signature() or inspect.getfullargspec()\n",
      "  if d.decorator_argspec is not None), _inspect.getargspec(target))\n",
      "c:\\users\\sanjay\\anaconda3\\lib\\site-packages\\tensorflow\\python\\util\\tf_inspect.py:45: DeprecationWarning: inspect.getargspec() is deprecated, use inspect.signature() or inspect.getfullargspec()\n",
      "  if d.decorator_argspec is not None), _inspect.getargspec(target))\n",
      "c:\\users\\sanjay\\anaconda3\\lib\\site-packages\\tensorflow\\python\\util\\tf_inspect.py:45: DeprecationWarning: inspect.getargspec() is deprecated, use inspect.signature() or inspect.getfullargspec()\n",
      "  if d.decorator_argspec is not None), _inspect.getargspec(target))\n",
      "c:\\users\\sanjay\\anaconda3\\lib\\site-packages\\tensorflow\\python\\util\\tf_inspect.py:45: DeprecationWarning: inspect.getargspec() is deprecated, use inspect.signature() or inspect.getfullargspec()\n",
      "  if d.decorator_argspec is not None), _inspect.getargspec(target))\n"
     ]
    },
    {
     "name": "stdout",
     "output_type": "stream",
     "text": [
      "Level 1:tensorflow:  out --> \n",
      "Level 1:tensorflow:Gradient for 'sequential/dense_flipout_3/IndependentDeterministic/sample/Deterministic/sample/Tile'\n",
      "Level 1:tensorflow:  in  --> gradients/sequential/dense_flipout_3/IndependentDeterministic/sample/Deterministic/sample/Reshape_grad/Reshape:0\n",
      "Level 1:tensorflow:  out --> gradients/sequential/dense_flipout_3/IndependentDeterministic/sample/Deterministic/sample/Tile_grad/Sum:0\n",
      "Level 1:tensorflow:Gradient for 'sequential/dense_flipout_2/Normal/loc/ReadVariableOp'\n",
      "Level 1:tensorflow:  in  --> gradients/sequential/dense_flipout_3/MatMul_1_grad/tuple/control_dependency_1:0\n",
      "Level 1:tensorflow:  out --> gradients/sequential/dense_flipout_3/MatMul_1_grad/tuple/control_dependency_1:0\n",
      "Level 1:tensorflow:Gradient for 'sequential/dense_flipout_3/mul_2'\n",
      "Level 1:tensorflow:  in  --> gradients/sequential/dense_flipout_3/MatMul_grad/tuple/control_dependency:0\n",
      "Level 1:tensorflow:  out --> gradients/sequential/dense_flipout_3/mul_2_grad/tuple/control_dependency:0, gradients/sequential/dense_flipout_3/mul_2_grad/tuple/control_dependency_1:0\n",
      "Level 1:tensorflow:Gradient for 'sequential/dense_flipout_3/Normal_1/sample/Reshape'\n",
      "Level 1:tensorflow:  in  --> gradients/sequential/dense_flipout_3/MatMul_grad/tuple/control_dependency_1:0\n",
      "Level 1:tensorflow:  out --> gradients/sequential/dense_flipout_3/Normal_1/sample/Reshape_grad/Reshape:0\n",
      "Level 1:tensorflow:Gradient for 'sequential/dense_flipout_3/IndependentDeterministic/sample/Deterministic/sample/strided_slice'\n",
      "Level 1:tensorflow:  in  --> gradients/sequential/dense_flipout_3/IndependentDeterministic/sample/Deterministic/sample/Tile_grad/Sum:0\n",
      "Level 1:tensorflow:  out --> gradients/sequential/dense_flipout_3/IndependentDeterministic/sample/Deterministic/sample/strided_slice_grad/StridedSliceGrad:0\n",
      "Level 1:tensorflow:Gradient for 'sequential/dense_flipout_3/Cast'\n",
      "Level 1:tensorflow:  in  --> gradients/sequential/dense_flipout_3/mul_2_grad/tuple/control_dependency_1:0\n",
      "Level 1:tensorflow:  out --> \n",
      "Level 1:tensorflow:Gradient for 'sequential/dense_flipout_3/Normal_1/sample/add'\n",
      "Level 1:tensorflow:  in  --> gradients/sequential/dense_flipout_3/Normal_1/sample/Reshape_grad/Reshape:0\n",
      "Level 1:tensorflow:  out --> gradients/sequential/dense_flipout_3/Normal_1/sample/add_grad/tuple/control_dependency:0, gradients/sequential/dense_flipout_3/Normal_1/sample/add_grad/tuple/control_dependency_1:0\n",
      "Level 1:tensorflow:Gradient for 'sequential/dense_flipout_2/Deterministic/ReadVariableOp'\n",
      "Level 1:tensorflow:  in  --> gradients/sequential/dense_flipout_3/IndependentDeterministic/sample/Deterministic/sample/strided_slice_grad/StridedSliceGrad:0\n",
      "Level 1:tensorflow:  out --> gradients/sequential/dense_flipout_3/IndependentDeterministic/sample/Deterministic/sample/strided_slice_grad/StridedSliceGrad:0\n",
      "Level 1:tensorflow:Gradient for 'sequential/dense_flipout_3/Normal_1/sample/mul'\n",
      "Level 1:tensorflow:  in  --> gradients/sequential/dense_flipout_3/Normal_1/sample/add_grad/tuple/control_dependency:0\n",
      "Level 1:tensorflow:  out --> gradients/sequential/dense_flipout_3/Normal_1/sample/mul_grad/tuple/control_dependency:0, gradients/sequential/dense_flipout_3/Normal_1/sample/mul_grad/tuple/control_dependency_1:0\n",
      "Level 1:tensorflow:Gradient for 'sequential/dense_flipout_3/Normal/scale'\n",
      "Level 1:tensorflow:  in  --> gradients/sequential/dense_flipout_3/Normal_1/sample/mul_grad/tuple/control_dependency_1:0\n",
      "Level 1:tensorflow:  out --> gradients/sequential/dense_flipout_3/Normal_1/sample/mul_grad/tuple/control_dependency_1:0\n",
      "Level 1:tensorflow:Gradient for 'sequential/dense_flipout_2/Normal/scale'\n",
      "Level 1:tensorflow:  in  --> gradients/sequential/dense_flipout_3/Normal_1/sample/mul_grad/tuple/control_dependency_1:0\n",
      "Level 1:tensorflow:  out --> gradients/sequential/dense_flipout_3/Normal_1/sample/mul_grad/tuple/control_dependency_1:0\n",
      "Level 1:tensorflow:Gradient for 'sequential/dense_flipout_2/add'\n",
      "Level 1:tensorflow:  in  --> gradients/sequential/dense_flipout_3/Normal_1/sample/mul_grad/tuple/control_dependency_1:0\n",
      "Level 1:tensorflow:  out --> gradients/sequential/dense_flipout_2/add_grad/tuple/control_dependency:0, gradients/sequential/dense_flipout_2/add_grad/tuple/control_dependency_1:0\n",
      "Level 1:tensorflow:Gradient for 'sequential/dense_flipout_2/Softplus'\n",
      "Level 1:tensorflow:  in  --> gradients/sequential/dense_flipout_2/add_grad/tuple/control_dependency_1:0\n",
      "Level 1:tensorflow:  out --> gradients/sequential/dense_flipout_2/Softplus_grad/SoftplusGrad:0\n",
      "Level 2:tensorflow:  _AggregatedGrads 2 x (?, 10) using add_n\n",
      "Level 1:tensorflow:Gradient for 'sequential/dense_flipout_2_1/Tanh'\n",
      "Level 1:tensorflow:  in  --> gradients/AddN:0\n",
      "Level 1:tensorflow:  out --> gradients/sequential/dense_flipout_2_1/Tanh_grad/TanhGrad:0\n",
      "Level 1:tensorflow:Gradient for 'sequential/dense_flipout_2/Softplus/ReadVariableOp'\n",
      "Level 1:tensorflow:  in  --> gradients/sequential/dense_flipout_2/Softplus_grad/SoftplusGrad:0\n",
      "Level 1:tensorflow:  out --> gradients/sequential/dense_flipout_2/Softplus_grad/SoftplusGrad:0\n",
      "Level 1:tensorflow:Gradient for 'sequential/dense_flipout_2_1/BiasAdd'\n",
      "Level 1:tensorflow:  in  --> gradients/sequential/dense_flipout_2_1/Tanh_grad/TanhGrad:0\n",
      "Level 1:tensorflow:  out --> gradients/sequential/dense_flipout_2_1/BiasAdd_grad/tuple/control_dependency:0, gradients/sequential/dense_flipout_2_1/BiasAdd_grad/tuple/control_dependency_1:0\n",
      "Level 1:tensorflow:Gradient for 'sequential/dense_flipout_2_1/add'\n",
      "Level 1:tensorflow:  in  --> gradients/sequential/dense_flipout_2_1/BiasAdd_grad/tuple/control_dependency:0\n",
      "Level 1:tensorflow:  out --> gradients/sequential/dense_flipout_2_1/add_grad/tuple/control_dependency:0, gradients/sequential/dense_flipout_2_1/add_grad/tuple/control_dependency_1:0\n",
      "Level 1:tensorflow:Gradient for 'sequential/dense_flipout_2_1/IndependentDeterministic/sample/Reshape'\n",
      "Level 1:tensorflow:  in  --> gradients/sequential/dense_flipout_2_1/BiasAdd_grad/tuple/control_dependency_1:0\n",
      "Level 1:tensorflow:  out --> gradients/sequential/dense_flipout_2_1/IndependentDeterministic/sample/Reshape_grad/Reshape:0\n",
      "Level 1:tensorflow:Gradient for 'sequential/dense_flipout_2_1/MatMul_1'\n",
      "Level 1:tensorflow:  in  --> gradients/sequential/dense_flipout_2_1/add_grad/tuple/control_dependency:0\n",
      "Level 1:tensorflow:  out --> gradients/sequential/dense_flipout_2_1/MatMul_1_grad/tuple/control_dependency:0, gradients/sequential/dense_flipout_2_1/MatMul_1_grad/tuple/control_dependency_1:0\n",
      "Level 1:tensorflow:Gradient for 'sequential/dense_flipout_2_1/mul_3'\n",
      "Level 1:tensorflow:  in  --> gradients/sequential/dense_flipout_2_1/add_grad/tuple/control_dependency_1:0\n",
      "Level 1:tensorflow:  out --> gradients/sequential/dense_flipout_2_1/mul_3_grad/tuple/control_dependency:0, gradients/sequential/dense_flipout_2_1/mul_3_grad/tuple/control_dependency_1:0\n",
      "Level 1:tensorflow:Gradient for 'sequential/dense_flipout_2_1/IndependentDeterministic/sample/Deterministic/sample/Reshape'\n",
      "Level 1:tensorflow:  in  --> gradients/sequential/dense_flipout_2_1/IndependentDeterministic/sample/Reshape_grad/Reshape:0\n",
      "Level 1:tensorflow:  out --> gradients/sequential/dense_flipout_2_1/IndependentDeterministic/sample/Deterministic/sample/Reshape_grad/Reshape:0\n",
      "Level 1:tensorflow:Gradient for 'sequential/dense_flipout_1/Normal/loc'\n"
     ]
    },
    {
     "name": "stderr",
     "output_type": "stream",
     "text": [
      "c:\\users\\sanjay\\anaconda3\\lib\\site-packages\\tensorflow\\python\\util\\tf_inspect.py:45: DeprecationWarning: inspect.getargspec() is deprecated, use inspect.signature() or inspect.getfullargspec()\n",
      "  if d.decorator_argspec is not None), _inspect.getargspec(target))\n",
      "c:\\users\\sanjay\\anaconda3\\lib\\site-packages\\tensorflow\\python\\util\\tf_inspect.py:45: DeprecationWarning: inspect.getargspec() is deprecated, use inspect.signature() or inspect.getfullargspec()\n",
      "  if d.decorator_argspec is not None), _inspect.getargspec(target))\n",
      "c:\\users\\sanjay\\anaconda3\\lib\\site-packages\\tensorflow\\python\\util\\tf_inspect.py:45: DeprecationWarning: inspect.getargspec() is deprecated, use inspect.signature() or inspect.getfullargspec()\n",
      "  if d.decorator_argspec is not None), _inspect.getargspec(target))\n",
      "c:\\users\\sanjay\\anaconda3\\lib\\site-packages\\tensorflow\\python\\util\\tf_inspect.py:45: DeprecationWarning: inspect.getargspec() is deprecated, use inspect.signature() or inspect.getfullargspec()\n",
      "  if d.decorator_argspec is not None), _inspect.getargspec(target))\n",
      "c:\\users\\sanjay\\anaconda3\\lib\\site-packages\\tensorflow\\python\\util\\tf_inspect.py:45: DeprecationWarning: inspect.getargspec() is deprecated, use inspect.signature() or inspect.getfullargspec()\n",
      "  if d.decorator_argspec is not None), _inspect.getargspec(target))\n",
      "c:\\users\\sanjay\\anaconda3\\lib\\site-packages\\tensorflow\\python\\util\\tf_inspect.py:45: DeprecationWarning: inspect.getargspec() is deprecated, use inspect.signature() or inspect.getfullargspec()\n",
      "  if d.decorator_argspec is not None), _inspect.getargspec(target))\n",
      "c:\\users\\sanjay\\anaconda3\\lib\\site-packages\\tensorflow\\python\\util\\tf_inspect.py:45: DeprecationWarning: inspect.getargspec() is deprecated, use inspect.signature() or inspect.getfullargspec()\n",
      "  if d.decorator_argspec is not None), _inspect.getargspec(target))\n",
      "c:\\users\\sanjay\\anaconda3\\lib\\site-packages\\tensorflow\\python\\util\\tf_inspect.py:45: DeprecationWarning: inspect.getargspec() is deprecated, use inspect.signature() or inspect.getfullargspec()\n",
      "  if d.decorator_argspec is not None), _inspect.getargspec(target))\n",
      "c:\\users\\sanjay\\anaconda3\\lib\\site-packages\\tensorflow\\python\\util\\tf_inspect.py:45: DeprecationWarning: inspect.getargspec() is deprecated, use inspect.signature() or inspect.getfullargspec()\n",
      "  if d.decorator_argspec is not None), _inspect.getargspec(target))\n",
      "c:\\users\\sanjay\\anaconda3\\lib\\site-packages\\tensorflow\\python\\util\\tf_inspect.py:45: DeprecationWarning: inspect.getargspec() is deprecated, use inspect.signature() or inspect.getfullargspec()\n",
      "  if d.decorator_argspec is not None), _inspect.getargspec(target))\n",
      "c:\\users\\sanjay\\anaconda3\\lib\\site-packages\\tensorflow\\python\\util\\tf_inspect.py:45: DeprecationWarning: inspect.getargspec() is deprecated, use inspect.signature() or inspect.getfullargspec()\n",
      "  if d.decorator_argspec is not None), _inspect.getargspec(target))\n",
      "c:\\users\\sanjay\\anaconda3\\lib\\site-packages\\tensorflow\\python\\util\\tf_inspect.py:45: DeprecationWarning: inspect.getargspec() is deprecated, use inspect.signature() or inspect.getfullargspec()\n",
      "  if d.decorator_argspec is not None), _inspect.getargspec(target))\n",
      "c:\\users\\sanjay\\anaconda3\\lib\\site-packages\\tensorflow\\python\\util\\tf_inspect.py:45: DeprecationWarning: inspect.getargspec() is deprecated, use inspect.signature() or inspect.getfullargspec()\n",
      "  if d.decorator_argspec is not None), _inspect.getargspec(target))\n"
     ]
    },
    {
     "name": "stdout",
     "output_type": "stream",
     "text": [
      "Level 1:tensorflow:  in  --> gradients/sequential/dense_flipout_2_1/MatMul_1_grad/tuple/control_dependency_1:0\n",
      "Level 1:tensorflow:  out --> gradients/sequential/dense_flipout_2_1/MatMul_1_grad/tuple/control_dependency_1:0\n",
      "Level 1:tensorflow:Gradient for 'sequential/dense_flipout_2_1/MatMul'\n",
      "Level 1:tensorflow:  in  --> gradients/sequential/dense_flipout_2_1/mul_3_grad/tuple/control_dependency:0\n",
      "Level 1:tensorflow:  out --> gradients/sequential/dense_flipout_2_1/MatMul_grad/tuple/control_dependency:0, gradients/sequential/dense_flipout_2_1/MatMul_grad/tuple/control_dependency_1:0\n",
      "Level 1:tensorflow:Gradient for 'sequential/dense_flipout_2_1/Cast_1'\n",
      "Level 1:tensorflow:  in  --> gradients/sequential/dense_flipout_2_1/mul_3_grad/tuple/control_dependency_1:0\n",
      "Level 1:tensorflow:  out --> \n",
      "Level 1:tensorflow:Gradient for 'sequential/dense_flipout_2_1/IndependentDeterministic/sample/Deterministic/sample/Tile'\n",
      "Level 1:tensorflow:  in  --> gradients/sequential/dense_flipout_2_1/IndependentDeterministic/sample/Deterministic/sample/Reshape_grad/Reshape:0\n",
      "Level 1:tensorflow:  out --> gradients/sequential/dense_flipout_2_1/IndependentDeterministic/sample/Deterministic/sample/Tile_grad/Sum:0\n",
      "Level 1:tensorflow:Gradient for 'sequential/dense_flipout_1/Normal/loc/ReadVariableOp'\n",
      "Level 1:tensorflow:  in  --> gradients/sequential/dense_flipout_2_1/MatMul_1_grad/tuple/control_dependency_1:0\n",
      "Level 1:tensorflow:  out --> gradients/sequential/dense_flipout_2_1/MatMul_1_grad/tuple/control_dependency_1:0\n",
      "Level 1:tensorflow:Gradient for 'sequential/dense_flipout_2_1/mul_2'\n",
      "Level 1:tensorflow:  in  --> gradients/sequential/dense_flipout_2_1/MatMul_grad/tuple/control_dependency:0\n",
      "Level 1:tensorflow:  out --> gradients/sequential/dense_flipout_2_1/mul_2_grad/tuple/control_dependency:0, gradients/sequential/dense_flipout_2_1/mul_2_grad/tuple/control_dependency_1:0\n",
      "Level 1:tensorflow:Gradient for 'sequential/dense_flipout_2_1/Normal_1/sample/Reshape'\n",
      "Level 1:tensorflow:  in  --> gradients/sequential/dense_flipout_2_1/MatMul_grad/tuple/control_dependency_1:0\n",
      "Level 1:tensorflow:  out --> gradients/sequential/dense_flipout_2_1/Normal_1/sample/Reshape_grad/Reshape:0\n",
      "Level 1:tensorflow:Gradient for 'sequential/dense_flipout_2_1/IndependentDeterministic/sample/Deterministic/sample/strided_slice'\n",
      "Level 1:tensorflow:  in  --> gradients/sequential/dense_flipout_2_1/IndependentDeterministic/sample/Deterministic/sample/Tile_grad/Sum:0\n",
      "Level 1:tensorflow:  out --> gradients/sequential/dense_flipout_2_1/IndependentDeterministic/sample/Deterministic/sample/strided_slice_grad/StridedSliceGrad:0\n",
      "Level 1:tensorflow:Gradient for 'sequential/dense_flipout_2_1/Cast'\n",
      "Level 1:tensorflow:  in  --> gradients/sequential/dense_flipout_2_1/mul_2_grad/tuple/control_dependency_1:0\n",
      "Level 1:tensorflow:  out --> \n",
      "Level 1:tensorflow:Gradient for 'sequential/dense_flipout_2_1/Normal_1/sample/add'\n",
      "Level 1:tensorflow:  in  --> gradients/sequential/dense_flipout_2_1/Normal_1/sample/Reshape_grad/Reshape:0\n",
      "Level 1:tensorflow:  out --> gradients/sequential/dense_flipout_2_1/Normal_1/sample/add_grad/tuple/control_dependency:0, gradients/sequential/dense_flipout_2_1/Normal_1/sample/add_grad/tuple/control_dependency_1:0\n",
      "Level 1:tensorflow:Gradient for 'sequential/dense_flipout_1/Deterministic/ReadVariableOp'\n",
      "Level 1:tensorflow:  in  --> gradients/sequential/dense_flipout_2_1/IndependentDeterministic/sample/Deterministic/sample/strided_slice_grad/StridedSliceGrad:0\n",
      "Level 1:tensorflow:  out --> gradients/sequential/dense_flipout_2_1/IndependentDeterministic/sample/Deterministic/sample/strided_slice_grad/StridedSliceGrad:0\n",
      "Level 1:tensorflow:Gradient for 'sequential/dense_flipout_2_1/Normal_1/sample/mul'\n",
      "Level 1:tensorflow:  in  --> gradients/sequential/dense_flipout_2_1/Normal_1/sample/add_grad/tuple/control_dependency:0\n",
      "Level 1:tensorflow:  out --> gradients/sequential/dense_flipout_2_1/Normal_1/sample/mul_grad/tuple/control_dependency:0, gradients/sequential/dense_flipout_2_1/Normal_1/sample/mul_grad/tuple/control_dependency_1:0\n",
      "Level 1:tensorflow:Gradient for 'sequential/dense_flipout_2_1/Normal/scale'\n",
      "Level 1:tensorflow:  in  --> gradients/sequential/dense_flipout_2_1/Normal_1/sample/mul_grad/tuple/control_dependency_1:0\n",
      "Level 1:tensorflow:  out --> gradients/sequential/dense_flipout_2_1/Normal_1/sample/mul_grad/tuple/control_dependency_1:0\n",
      "Level 1:tensorflow:Gradient for 'sequential/dense_flipout_1/Normal/scale'\n",
      "Level 1:tensorflow:  in  --> gradients/sequential/dense_flipout_2_1/Normal_1/sample/mul_grad/tuple/control_dependency_1:0\n",
      "Level 1:tensorflow:  out --> gradients/sequential/dense_flipout_2_1/Normal_1/sample/mul_grad/tuple/control_dependency_1:0\n",
      "Level 1:tensorflow:Gradient for 'sequential/dense_flipout_1/add'\n",
      "Level 1:tensorflow:  in  --> gradients/sequential/dense_flipout_2_1/Normal_1/sample/mul_grad/tuple/control_dependency_1:0\n",
      "Level 1:tensorflow:  out --> gradients/sequential/dense_flipout_1/add_grad/tuple/control_dependency:0, gradients/sequential/dense_flipout_1/add_grad/tuple/control_dependency_1:0\n",
      "Level 1:tensorflow:Gradient for 'sequential/dense_flipout_1/Softplus'\n",
      "Level 1:tensorflow:  in  --> gradients/sequential/dense_flipout_1/add_grad/tuple/control_dependency_1:0\n",
      "Level 1:tensorflow:  out --> gradients/sequential/dense_flipout_1/Softplus_grad/SoftplusGrad:0\n",
      "Level 2:tensorflow:  _AggregatedGrads 2 x (?, 10) using add_n\n",
      "Level 1:tensorflow:Gradient for 'sequential/dense_flipout_1_1/Tanh'\n",
      "Level 1:tensorflow:  in  --> gradients/AddN_1:0\n",
      "Level 1:tensorflow:  out --> gradients/sequential/dense_flipout_1_1/Tanh_grad/TanhGrad:0\n",
      "Level 1:tensorflow:Gradient for 'sequential/dense_flipout_1/Softplus/ReadVariableOp'\n",
      "Level 1:tensorflow:  in  --> gradients/sequential/dense_flipout_1/Softplus_grad/SoftplusGrad:0\n",
      "Level 1:tensorflow:  out --> gradients/sequential/dense_flipout_1/Softplus_grad/SoftplusGrad:0\n",
      "Level 1:tensorflow:Gradient for 'sequential/dense_flipout_1_1/BiasAdd'\n",
      "Level 1:tensorflow:  in  --> gradients/sequential/dense_flipout_1_1/Tanh_grad/TanhGrad:0\n",
      "Level 1:tensorflow:  out --> gradients/sequential/dense_flipout_1_1/BiasAdd_grad/tuple/control_dependency:0, gradients/sequential/dense_flipout_1_1/BiasAdd_grad/tuple/control_dependency_1:0\n",
      "Level 1:tensorflow:Gradient for 'sequential/dense_flipout_1_1/add'\n",
      "Level 1:tensorflow:  in  --> gradients/sequential/dense_flipout_1_1/BiasAdd_grad/tuple/control_dependency:0\n",
      "Level 1:tensorflow:  out --> gradients/sequential/dense_flipout_1_1/add_grad/tuple/control_dependency:0, gradients/sequential/dense_flipout_1_1/add_grad/tuple/control_dependency_1:0\n",
      "Level 1:tensorflow:Gradient for 'sequential/dense_flipout_1_1/IndependentDeterministic/sample/Reshape'\n",
      "Level 1:tensorflow:  in  --> gradients/sequential/dense_flipout_1_1/BiasAdd_grad/tuple/control_dependency_1:0\n",
      "Level 1:tensorflow:  out --> gradients/sequential/dense_flipout_1_1/IndependentDeterministic/sample/Reshape_grad/Reshape:0\n",
      "Level 1:tensorflow:Gradient for 'sequential/dense_flipout_1_1/MatMul_1'\n",
      "Level 1:tensorflow:  in  --> gradients/sequential/dense_flipout_1_1/add_grad/tuple/control_dependency:0\n",
      "Level 1:tensorflow:  out --> gradients/sequential/dense_flipout_1_1/MatMul_1_grad/tuple/control_dependency:0, gradients/sequential/dense_flipout_1_1/MatMul_1_grad/tuple/control_dependency_1:0\n"
     ]
    },
    {
     "name": "stderr",
     "output_type": "stream",
     "text": [
      "c:\\users\\sanjay\\anaconda3\\lib\\site-packages\\tensorflow\\python\\util\\tf_inspect.py:45: DeprecationWarning: inspect.getargspec() is deprecated, use inspect.signature() or inspect.getfullargspec()\n",
      "  if d.decorator_argspec is not None), _inspect.getargspec(target))\n",
      "c:\\users\\sanjay\\anaconda3\\lib\\site-packages\\tensorflow\\python\\util\\tf_inspect.py:45: DeprecationWarning: inspect.getargspec() is deprecated, use inspect.signature() or inspect.getfullargspec()\n",
      "  if d.decorator_argspec is not None), _inspect.getargspec(target))\n",
      "c:\\users\\sanjay\\anaconda3\\lib\\site-packages\\tensorflow\\python\\util\\tf_inspect.py:45: DeprecationWarning: inspect.getargspec() is deprecated, use inspect.signature() or inspect.getfullargspec()\n",
      "  if d.decorator_argspec is not None), _inspect.getargspec(target))\n",
      "c:\\users\\sanjay\\anaconda3\\lib\\site-packages\\tensorflow\\python\\util\\tf_inspect.py:45: DeprecationWarning: inspect.getargspec() is deprecated, use inspect.signature() or inspect.getfullargspec()\n",
      "  if d.decorator_argspec is not None), _inspect.getargspec(target))\n",
      "c:\\users\\sanjay\\anaconda3\\lib\\site-packages\\tensorflow\\python\\util\\tf_inspect.py:45: DeprecationWarning: inspect.getargspec() is deprecated, use inspect.signature() or inspect.getfullargspec()\n",
      "  if d.decorator_argspec is not None), _inspect.getargspec(target))\n",
      "c:\\users\\sanjay\\anaconda3\\lib\\site-packages\\tensorflow\\python\\util\\tf_inspect.py:45: DeprecationWarning: inspect.getargspec() is deprecated, use inspect.signature() or inspect.getfullargspec()\n",
      "  if d.decorator_argspec is not None), _inspect.getargspec(target))\n",
      "c:\\users\\sanjay\\anaconda3\\lib\\site-packages\\tensorflow\\python\\util\\tf_inspect.py:45: DeprecationWarning: inspect.getargspec() is deprecated, use inspect.signature() or inspect.getfullargspec()\n",
      "  if d.decorator_argspec is not None), _inspect.getargspec(target))\n",
      "c:\\users\\sanjay\\anaconda3\\lib\\site-packages\\tensorflow\\python\\util\\tf_inspect.py:45: DeprecationWarning: inspect.getargspec() is deprecated, use inspect.signature() or inspect.getfullargspec()\n",
      "  if d.decorator_argspec is not None), _inspect.getargspec(target))\n",
      "c:\\users\\sanjay\\anaconda3\\lib\\site-packages\\tensorflow\\python\\util\\tf_inspect.py:45: DeprecationWarning: inspect.getargspec() is deprecated, use inspect.signature() or inspect.getfullargspec()\n",
      "  if d.decorator_argspec is not None), _inspect.getargspec(target))\n",
      "c:\\users\\sanjay\\anaconda3\\lib\\site-packages\\tensorflow\\python\\util\\tf_inspect.py:45: DeprecationWarning: inspect.getargspec() is deprecated, use inspect.signature() or inspect.getfullargspec()\n",
      "  if d.decorator_argspec is not None), _inspect.getargspec(target))\n",
      "c:\\users\\sanjay\\anaconda3\\lib\\site-packages\\tensorflow\\python\\util\\tf_inspect.py:45: DeprecationWarning: inspect.getargspec() is deprecated, use inspect.signature() or inspect.getfullargspec()\n",
      "  if d.decorator_argspec is not None), _inspect.getargspec(target))\n",
      "c:\\users\\sanjay\\anaconda3\\lib\\site-packages\\tensorflow\\python\\util\\tf_inspect.py:45: DeprecationWarning: inspect.getargspec() is deprecated, use inspect.signature() or inspect.getfullargspec()\n",
      "  if d.decorator_argspec is not None), _inspect.getargspec(target))\n",
      "c:\\users\\sanjay\\anaconda3\\lib\\site-packages\\tensorflow\\python\\util\\tf_inspect.py:45: DeprecationWarning: inspect.getargspec() is deprecated, use inspect.signature() or inspect.getfullargspec()\n",
      "  if d.decorator_argspec is not None), _inspect.getargspec(target))\n"
     ]
    },
    {
     "name": "stdout",
     "output_type": "stream",
     "text": [
      "Level 1:tensorflow:Gradient for 'sequential/dense_flipout_1_1/mul_3'\n",
      "Level 1:tensorflow:  in  --> gradients/sequential/dense_flipout_1_1/add_grad/tuple/control_dependency_1:0\n",
      "Level 1:tensorflow:  out --> gradients/sequential/dense_flipout_1_1/mul_3_grad/tuple/control_dependency:0, gradients/sequential/dense_flipout_1_1/mul_3_grad/tuple/control_dependency_1:0\n",
      "Level 1:tensorflow:Gradient for 'sequential/dense_flipout_1_1/IndependentDeterministic/sample/Deterministic/sample/Reshape'\n",
      "Level 1:tensorflow:  in  --> gradients/sequential/dense_flipout_1_1/IndependentDeterministic/sample/Reshape_grad/Reshape:0\n",
      "Level 1:tensorflow:  out --> gradients/sequential/dense_flipout_1_1/IndependentDeterministic/sample/Deterministic/sample/Reshape_grad/Reshape:0\n",
      "Level 1:tensorflow:Gradient for 'sequential/dense_flipout/Normal/loc'\n",
      "Level 1:tensorflow:  in  --> gradients/sequential/dense_flipout_1_1/MatMul_1_grad/tuple/control_dependency_1:0\n",
      "Level 1:tensorflow:  out --> gradients/sequential/dense_flipout_1_1/MatMul_1_grad/tuple/control_dependency_1:0\n",
      "Level 1:tensorflow:Gradient for 'sequential/dense_flipout_1_1/MatMul'\n",
      "Level 1:tensorflow:  in  --> gradients/sequential/dense_flipout_1_1/mul_3_grad/tuple/control_dependency:0\n",
      "Level 1:tensorflow:  out --> gradients/sequential/dense_flipout_1_1/MatMul_grad/tuple/control_dependency:0, gradients/sequential/dense_flipout_1_1/MatMul_grad/tuple/control_dependency_1:0\n",
      "Level 1:tensorflow:Gradient for 'sequential/dense_flipout_1_1/IndependentDeterministic/sample/Deterministic/sample/Tile'\n",
      "Level 1:tensorflow:  in  --> gradients/sequential/dense_flipout_1_1/IndependentDeterministic/sample/Deterministic/sample/Reshape_grad/Reshape:0\n",
      "Level 1:tensorflow:  out --> gradients/sequential/dense_flipout_1_1/IndependentDeterministic/sample/Deterministic/sample/Tile_grad/Sum:0\n",
      "Level 1:tensorflow:Gradient for 'sequential/dense_flipout/Normal/loc/ReadVariableOp'\n",
      "Level 1:tensorflow:  in  --> gradients/sequential/dense_flipout_1_1/MatMul_1_grad/tuple/control_dependency_1:0\n",
      "Level 1:tensorflow:  out --> gradients/sequential/dense_flipout_1_1/MatMul_1_grad/tuple/control_dependency_1:0\n",
      "Level 1:tensorflow:Gradient for 'sequential/dense_flipout_1_1/Normal_1/sample/Reshape'\n",
      "Level 1:tensorflow:  in  --> gradients/sequential/dense_flipout_1_1/MatMul_grad/tuple/control_dependency_1:0\n",
      "Level 1:tensorflow:  out --> gradients/sequential/dense_flipout_1_1/Normal_1/sample/Reshape_grad/Reshape:0\n",
      "Level 1:tensorflow:Gradient for 'sequential/dense_flipout_1_1/IndependentDeterministic/sample/Deterministic/sample/strided_slice'\n",
      "Level 1:tensorflow:  in  --> gradients/sequential/dense_flipout_1_1/IndependentDeterministic/sample/Deterministic/sample/Tile_grad/Sum:0\n",
      "Level 1:tensorflow:  out --> gradients/sequential/dense_flipout_1_1/IndependentDeterministic/sample/Deterministic/sample/strided_slice_grad/StridedSliceGrad:0\n",
      "Level 1:tensorflow:Gradient for 'sequential/dense_flipout_1_1/Normal_1/sample/add'\n",
      "Level 1:tensorflow:  in  --> gradients/sequential/dense_flipout_1_1/Normal_1/sample/Reshape_grad/Reshape:0\n",
      "Level 1:tensorflow:  out --> gradients/sequential/dense_flipout_1_1/Normal_1/sample/add_grad/tuple/control_dependency:0, gradients/sequential/dense_flipout_1_1/Normal_1/sample/add_grad/tuple/control_dependency_1:0\n",
      "Level 1:tensorflow:Gradient for 'sequential/dense_flipout/Deterministic/ReadVariableOp'\n",
      "Level 1:tensorflow:  in  --> gradients/sequential/dense_flipout_1_1/IndependentDeterministic/sample/Deterministic/sample/strided_slice_grad/StridedSliceGrad:0\n",
      "Level 1:tensorflow:  out --> gradients/sequential/dense_flipout_1_1/IndependentDeterministic/sample/Deterministic/sample/strided_slice_grad/StridedSliceGrad:0\n",
      "Level 1:tensorflow:Gradient for 'sequential/dense_flipout_1_1/Normal_1/sample/mul'\n",
      "Level 1:tensorflow:  in  --> gradients/sequential/dense_flipout_1_1/Normal_1/sample/add_grad/tuple/control_dependency:0\n",
      "Level 1:tensorflow:  out --> gradients/sequential/dense_flipout_1_1/Normal_1/sample/mul_grad/tuple/control_dependency:0, gradients/sequential/dense_flipout_1_1/Normal_1/sample/mul_grad/tuple/control_dependency_1:0\n",
      "Level 1:tensorflow:Gradient for 'sequential/dense_flipout_1_1/Normal/scale'\n",
      "Level 1:tensorflow:  in  --> gradients/sequential/dense_flipout_1_1/Normal_1/sample/mul_grad/tuple/control_dependency_1:0\n",
      "Level 1:tensorflow:  out --> gradients/sequential/dense_flipout_1_1/Normal_1/sample/mul_grad/tuple/control_dependency_1:0\n",
      "Level 1:tensorflow:Gradient for 'sequential/dense_flipout/Normal/scale'\n",
      "Level 1:tensorflow:  in  --> gradients/sequential/dense_flipout_1_1/Normal_1/sample/mul_grad/tuple/control_dependency_1:0\n",
      "Level 1:tensorflow:  out --> gradients/sequential/dense_flipout_1_1/Normal_1/sample/mul_grad/tuple/control_dependency_1:0\n",
      "Level 1:tensorflow:Gradient for 'sequential/dense_flipout/add'\n",
      "Level 1:tensorflow:  in  --> gradients/sequential/dense_flipout_1_1/Normal_1/sample/mul_grad/tuple/control_dependency_1:0\n",
      "Level 1:tensorflow:  out --> gradients/sequential/dense_flipout/add_grad/tuple/control_dependency:0, gradients/sequential/dense_flipout/add_grad/tuple/control_dependency_1:0\n",
      "Level 1:tensorflow:Gradient for 'sequential/dense_flipout/Softplus'\n",
      "Level 1:tensorflow:  in  --> gradients/sequential/dense_flipout/add_grad/tuple/control_dependency_1:0\n",
      "Level 1:tensorflow:  out --> gradients/sequential/dense_flipout/Softplus_grad/SoftplusGrad:0\n",
      "Level 1:tensorflow:Gradient for 'sequential/dense_flipout/Softplus/ReadVariableOp'\n",
      "Level 1:tensorflow:  in  --> gradients/sequential/dense_flipout/Softplus_grad/SoftplusGrad:0\n",
      "Level 1:tensorflow:  out --> gradients/sequential/dense_flipout/Softplus_grad/SoftplusGrad:0\n",
      "Level 1:tensorflow:Created variable sequential/dense_flipout/kernel_posterior_loc/StochasticGradientLangevinDynamics:0 with shape (1, 10) and init <tensorflow.python.ops.init_ops.Ones object at 0x000001FF3A421B70>\n",
      "Level 1:tensorflow:Created variable sequential/dense_flipout/kernel_posterior_untransformed_scale/StochasticGradientLangevinDynamics:0 with shape (1, 10) and init <tensorflow.python.ops.init_ops.Ones object at 0x000001FF3A4219B0>\n",
      "Level 1:tensorflow:Created variable sequential/dense_flipout/bias_posterior_loc/StochasticGradientLangevinDynamics:0 with shape (10,) and init <tensorflow.python.ops.init_ops.Ones object at 0x000001FF3A421B70>\n",
      "Level 1:tensorflow:Created variable sequential/dense_flipout_1/kernel_posterior_loc/StochasticGradientLangevinDynamics:0 with shape (10, 10) and init <tensorflow.python.ops.init_ops.Ones object at 0x000001FF3A4219B0>\n",
      "Level 1:tensorflow:Created variable sequential/dense_flipout_1/kernel_posterior_untransformed_scale/StochasticGradientLangevinDynamics:0 with shape (10, 10) and init <tensorflow.python.ops.init_ops.Ones object at 0x000001FF3A421B70>\n",
      "Level 1:tensorflow:Created variable sequential/dense_flipout_1/bias_posterior_loc/StochasticGradientLangevinDynamics:0 with shape (10,) and init <tensorflow.python.ops.init_ops.Ones object at 0x000001FF3A4219B0>\n",
      "Level 1:tensorflow:Created variable sequential/dense_flipout_2/kernel_posterior_loc/StochasticGradientLangevinDynamics:0 with shape (10, 1) and init <tensorflow.python.ops.init_ops.Ones object at 0x000001FF3A421B70>\n"
     ]
    },
    {
     "name": "stderr",
     "output_type": "stream",
     "text": [
      "c:\\users\\sanjay\\anaconda3\\lib\\site-packages\\tensorflow\\python\\util\\tf_inspect.py:45: DeprecationWarning: inspect.getargspec() is deprecated, use inspect.signature() or inspect.getfullargspec()\n",
      "  if d.decorator_argspec is not None), _inspect.getargspec(target))\n",
      "c:\\users\\sanjay\\anaconda3\\lib\\site-packages\\tensorflow\\python\\util\\tf_inspect.py:45: DeprecationWarning: inspect.getargspec() is deprecated, use inspect.signature() or inspect.getfullargspec()\n",
      "  if d.decorator_argspec is not None), _inspect.getargspec(target))\n",
      "c:\\users\\sanjay\\anaconda3\\lib\\site-packages\\tensorflow\\python\\util\\tf_inspect.py:45: DeprecationWarning: inspect.getargspec() is deprecated, use inspect.signature() or inspect.getfullargspec()\n",
      "  if d.decorator_argspec is not None), _inspect.getargspec(target))\n",
      "c:\\users\\sanjay\\anaconda3\\lib\\site-packages\\tensorflow\\python\\util\\tf_inspect.py:45: DeprecationWarning: inspect.getargspec() is deprecated, use inspect.signature() or inspect.getfullargspec()\n",
      "  if d.decorator_argspec is not None), _inspect.getargspec(target))\n",
      "c:\\users\\sanjay\\anaconda3\\lib\\site-packages\\tensorflow\\python\\util\\tf_inspect.py:45: DeprecationWarning: inspect.getargspec() is deprecated, use inspect.signature() or inspect.getfullargspec()\n",
      "  if d.decorator_argspec is not None), _inspect.getargspec(target))\n",
      "c:\\users\\sanjay\\anaconda3\\lib\\site-packages\\tensorflow\\python\\util\\tf_inspect.py:45: DeprecationWarning: inspect.getargspec() is deprecated, use inspect.signature() or inspect.getfullargspec()\n",
      "  if d.decorator_argspec is not None), _inspect.getargspec(target))\n",
      "c:\\users\\sanjay\\anaconda3\\lib\\site-packages\\tensorflow\\python\\util\\tf_inspect.py:45: DeprecationWarning: inspect.getargspec() is deprecated, use inspect.signature() or inspect.getfullargspec()\n",
      "  if d.decorator_argspec is not None), _inspect.getargspec(target))\n"
     ]
    },
    {
     "name": "stdout",
     "output_type": "stream",
     "text": [
      "Level 1:tensorflow:Created variable sequential/dense_flipout_2/kernel_posterior_untransformed_scale/StochasticGradientLangevinDynamics:0 with shape (10, 1) and init <tensorflow.python.ops.init_ops.Ones object at 0x000001FF3A4219B0>\n",
      "Level 1:tensorflow:Created variable sequential/dense_flipout_2/bias_posterior_loc/StochasticGradientLangevinDynamics:0 with shape (1,) and init <tensorflow.python.ops.init_ops.Ones object at 0x000001FF3A421B70>\n"
     ]
    },
    {
     "name": "stderr",
     "output_type": "stream",
     "text": [
      "c:\\users\\sanjay\\anaconda3\\lib\\site-packages\\tensorflow\\python\\util\\tf_inspect.py:45: DeprecationWarning: inspect.getargspec() is deprecated, use inspect.signature() or inspect.getfullargspec()\n",
      "  if d.decorator_argspec is not None), _inspect.getargspec(target))\n",
      "c:\\users\\sanjay\\anaconda3\\lib\\site-packages\\tensorflow\\python\\util\\tf_inspect.py:45: DeprecationWarning: inspect.getargspec() is deprecated, use inspect.signature() or inspect.getfullargspec()\n",
      "  if d.decorator_argspec is not None), _inspect.getargspec(target))\n"
     ]
    },
    {
     "ename": "NotImplementedError",
     "evalue": "",
     "output_type": "error",
     "traceback": [
      "\u001b[1;31m---------------------------------------------------------------------------\u001b[0m",
      "\u001b[1;31mNotImplementedError\u001b[0m                       Traceback (most recent call last)",
      "\u001b[1;32m<ipython-input-22-a2eece1e2073>\u001b[0m in \u001b[0;36m<module>\u001b[1;34m()\u001b[0m\n\u001b[0;32m     14\u001b[0m \u001b[0mlossSummary\u001b[0m \u001b[1;33m=\u001b[0m \u001b[0mtf\u001b[0m\u001b[1;33m.\u001b[0m\u001b[0msummary\u001b[0m\u001b[1;33m.\u001b[0m\u001b[0mscalar\u001b[0m\u001b[1;33m(\u001b[0m\u001b[1;34m'Loss'\u001b[0m\u001b[1;33m,\u001b[0m \u001b[0mloss\u001b[0m\u001b[1;33m)\u001b[0m\u001b[1;33m\u001b[0m\u001b[0m\n\u001b[0;32m     15\u001b[0m \u001b[0msgd_optimizer\u001b[0m \u001b[1;33m=\u001b[0m \u001b[0mtfp\u001b[0m\u001b[1;33m.\u001b[0m\u001b[0moptimizer\u001b[0m\u001b[1;33m.\u001b[0m\u001b[0mStochasticGradientLangevinDynamics\u001b[0m\u001b[1;33m(\u001b[0m\u001b[1;36m3.0\u001b[0m\u001b[1;33m,\u001b[0m\u001b[0mpreconditioner_decay_rate\u001b[0m\u001b[1;33m=\u001b[0m\u001b[1;36m0.95\u001b[0m\u001b[1;33m,\u001b[0m\u001b[0mnum_pseudo_batches\u001b[0m\u001b[1;33m=\u001b[0m\u001b[1;36m10\u001b[0m\u001b[1;33m)\u001b[0m\u001b[1;33m\u001b[0m\u001b[0m\n\u001b[1;32m---> 16\u001b[1;33m \u001b[0msgd_op\u001b[0m \u001b[1;33m=\u001b[0m \u001b[0msgd_optimizer\u001b[0m\u001b[1;33m.\u001b[0m\u001b[0mminimize\u001b[0m\u001b[1;33m(\u001b[0m\u001b[0mloss\u001b[0m\u001b[1;33m)\u001b[0m\u001b[1;33m\u001b[0m\u001b[0m\n\u001b[0m",
      "\u001b[1;32mc:\\users\\sanjay\\anaconda3\\lib\\site-packages\\tensorflow\\python\\training\\optimizer.py\u001b[0m in \u001b[0;36mminimize\u001b[1;34m(self, loss, global_step, var_list, gate_gradients, aggregation_method, colocate_gradients_with_ops, name, grad_loss)\u001b[0m\n\u001b[0;32m    398\u001b[0m \u001b[1;33m\u001b[0m\u001b[0m\n\u001b[0;32m    399\u001b[0m     return self.apply_gradients(grads_and_vars, global_step=global_step,\n\u001b[1;32m--> 400\u001b[1;33m                                 name=name)\n\u001b[0m\u001b[0;32m    401\u001b[0m \u001b[1;33m\u001b[0m\u001b[0m\n\u001b[0;32m    402\u001b[0m   def compute_gradients(self, loss, var_list=None,\n",
      "\u001b[1;32mc:\\users\\sanjay\\anaconda3\\lib\\site-packages\\tensorflow\\python\\training\\optimizer.py\u001b[0m in \u001b[0;36mapply_gradients\u001b[1;34m(self, grads_and_vars, global_step, name)\u001b[0m\n\u001b[0;32m    558\u001b[0m           \u001b[0mscope_name\u001b[0m \u001b[1;33m=\u001b[0m \u001b[0mvar\u001b[0m\u001b[1;33m.\u001b[0m\u001b[0mop\u001b[0m\u001b[1;33m.\u001b[0m\u001b[0mname\u001b[0m\u001b[1;33m\u001b[0m\u001b[0m\n\u001b[0;32m    559\u001b[0m         \u001b[1;32mwith\u001b[0m \u001b[0mops\u001b[0m\u001b[1;33m.\u001b[0m\u001b[0mname_scope\u001b[0m\u001b[1;33m(\u001b[0m\u001b[1;34m\"update_\"\u001b[0m \u001b[1;33m+\u001b[0m \u001b[0mscope_name\u001b[0m\u001b[1;33m)\u001b[0m\u001b[1;33m,\u001b[0m \u001b[0mops\u001b[0m\u001b[1;33m.\u001b[0m\u001b[0mcolocate_with\u001b[0m\u001b[1;33m(\u001b[0m\u001b[0mvar\u001b[0m\u001b[1;33m)\u001b[0m\u001b[1;33m:\u001b[0m\u001b[1;33m\u001b[0m\u001b[0m\n\u001b[1;32m--> 560\u001b[1;33m           \u001b[0mupdate_ops\u001b[0m\u001b[1;33m.\u001b[0m\u001b[0mappend\u001b[0m\u001b[1;33m(\u001b[0m\u001b[0mprocessor\u001b[0m\u001b[1;33m.\u001b[0m\u001b[0mupdate_op\u001b[0m\u001b[1;33m(\u001b[0m\u001b[0mself\u001b[0m\u001b[1;33m,\u001b[0m \u001b[0mgrad\u001b[0m\u001b[1;33m)\u001b[0m\u001b[1;33m)\u001b[0m\u001b[1;33m\u001b[0m\u001b[0m\n\u001b[0m\u001b[0;32m    561\u001b[0m       \u001b[1;32mif\u001b[0m \u001b[0mglobal_step\u001b[0m \u001b[1;32mis\u001b[0m \u001b[1;32mNone\u001b[0m\u001b[1;33m:\u001b[0m\u001b[1;33m\u001b[0m\u001b[0m\n\u001b[0;32m    562\u001b[0m         \u001b[0mapply_updates\u001b[0m \u001b[1;33m=\u001b[0m \u001b[0mself\u001b[0m\u001b[1;33m.\u001b[0m\u001b[0m_finish\u001b[0m\u001b[1;33m(\u001b[0m\u001b[0mupdate_ops\u001b[0m\u001b[1;33m,\u001b[0m \u001b[0mname\u001b[0m\u001b[1;33m)\u001b[0m\u001b[1;33m\u001b[0m\u001b[0m\n",
      "\u001b[1;32mc:\\users\\sanjay\\anaconda3\\lib\\site-packages\\tensorflow\\python\\training\\optimizer.py\u001b[0m in \u001b[0;36mupdate_op\u001b[1;34m(self, optimizer, g)\u001b[0m\n\u001b[0;32m    146\u001b[0m       return optimizer._resource_apply_sparse_duplicate_indices(\n\u001b[0;32m    147\u001b[0m           g.values, self._v, g.indices)\n\u001b[1;32m--> 148\u001b[1;33m     \u001b[0mupdate_op\u001b[0m \u001b[1;33m=\u001b[0m \u001b[0moptimizer\u001b[0m\u001b[1;33m.\u001b[0m\u001b[0m_resource_apply_dense\u001b[0m\u001b[1;33m(\u001b[0m\u001b[0mg\u001b[0m\u001b[1;33m,\u001b[0m \u001b[0mself\u001b[0m\u001b[1;33m.\u001b[0m\u001b[0m_v\u001b[0m\u001b[1;33m)\u001b[0m\u001b[1;33m\u001b[0m\u001b[0m\n\u001b[0m\u001b[0;32m    149\u001b[0m     \u001b[1;32mif\u001b[0m \u001b[0mself\u001b[0m\u001b[1;33m.\u001b[0m\u001b[0m_v\u001b[0m\u001b[1;33m.\u001b[0m\u001b[0mconstraint\u001b[0m \u001b[1;32mis\u001b[0m \u001b[1;32mnot\u001b[0m \u001b[1;32mNone\u001b[0m\u001b[1;33m:\u001b[0m\u001b[1;33m\u001b[0m\u001b[0m\n\u001b[0;32m    150\u001b[0m       \u001b[1;32mwith\u001b[0m \u001b[0mops\u001b[0m\u001b[1;33m.\u001b[0m\u001b[0mcontrol_dependencies\u001b[0m\u001b[1;33m(\u001b[0m\u001b[1;33m[\u001b[0m\u001b[0mupdate_op\u001b[0m\u001b[1;33m]\u001b[0m\u001b[1;33m)\u001b[0m\u001b[1;33m:\u001b[0m\u001b[1;33m\u001b[0m\u001b[0m\n",
      "\u001b[1;32mc:\\users\\sanjay\\anaconda3\\lib\\site-packages\\tensorflow\\python\\training\\optimizer.py\u001b[0m in \u001b[0;36m_resource_apply_dense\u001b[1;34m(self, grad, handle)\u001b[0m\n\u001b[0;32m    777\u001b[0m       \u001b[0mAn\u001b[0m\u001b[0;31m \u001b[0m\u001b[0;31m`\u001b[0m\u001b[0mOperation\u001b[0m\u001b[0;31m`\u001b[0m \u001b[0mwhich\u001b[0m \u001b[0mupdates\u001b[0m \u001b[0mthe\u001b[0m \u001b[0mvalue\u001b[0m \u001b[0mof\u001b[0m \u001b[0mthe\u001b[0m \u001b[0mvariable\u001b[0m\u001b[1;33m.\u001b[0m\u001b[1;33m\u001b[0m\u001b[0m\n\u001b[0;32m    778\u001b[0m     \"\"\"\n\u001b[1;32m--> 779\u001b[1;33m     \u001b[1;32mraise\u001b[0m \u001b[0mNotImplementedError\u001b[0m\u001b[1;33m(\u001b[0m\u001b[1;33m)\u001b[0m\u001b[1;33m\u001b[0m\u001b[0m\n\u001b[0m\u001b[0;32m    780\u001b[0m \u001b[1;33m\u001b[0m\u001b[0m\n\u001b[0;32m    781\u001b[0m   \u001b[1;32mdef\u001b[0m \u001b[0m_resource_apply_sparse_duplicate_indices\u001b[0m\u001b[1;33m(\u001b[0m\u001b[0mself\u001b[0m\u001b[1;33m,\u001b[0m \u001b[0mgrad\u001b[0m\u001b[1;33m,\u001b[0m \u001b[0mhandle\u001b[0m\u001b[1;33m,\u001b[0m \u001b[0mindices\u001b[0m\u001b[1;33m)\u001b[0m\u001b[1;33m:\u001b[0m\u001b[1;33m\u001b[0m\u001b[0m\n",
      "\u001b[1;31mNotImplementedError\u001b[0m: "
     ]
    }
   ],
   "source": [
    "tf.reset_default_graph()\n",
    "time_nn = tf.placeholder(tf.float32, shape=(None, 1)) \n",
    "\n",
    "model = tf.keras.Sequential([\n",
    "         tfp.layers.DenseFlipout(10, activation=tf.nn.tanh),\n",
    "         tfp.layers.DenseFlipout(10, activation=tf.nn.tanh),\n",
    "         tfp.layers.DenseFlipout(1, activation=tf.nn.tanh),\n",
    "  ])\n",
    "predictions = model(time_nn)\n",
    "\n",
    "labels = tf.placeholder(tf.float32, shape=(None, 1))  \n",
    "\n",
    "loss = tf.losses.mean_squared_error(labels, predictions)            # define loss\n",
    "lossSummary = tf.summary.scalar('Loss', loss)\n",
    "sgd_optimizer = tfp.optimizer.StochasticGradientLangevinDynamics(3.0,preconditioner_decay_rate=0.95,num_pseudo_batches=10)\n",
    "sgd_op = sgd_optimizer.apply_gradient_descent(zip())"
   ]
  },
  {
   "cell_type": "code",
   "execution_count": 6,
   "metadata": {},
   "outputs": [],
   "source": [
    "import time as Time\n",
    "sess=tf.Session()  \n",
    "sess.run(tf.global_variables_initializer())\n",
    "train_writer = tf.summary.FileWriter('summary\\\\'+Time.strftime('%H_%M_%S'), sess.graph)\n",
    "for i in range(20000):\n",
    "    feed_dict={time_nn:time_combined, labels:noised_sinus}\n",
    "    _, lossS = sess.run([sgd_op, lossSummary], feed_dict=feed_dict) \n",
    "    train_writer.add_summary(lossS, i)"
   ]
  },
  {
   "cell_type": "code",
   "execution_count": 7,
   "metadata": {},
   "outputs": [
    {
     "name": "stderr",
     "output_type": "stream",
     "text": [
      "c:\\users\\sanjay\\anaconda3\\lib\\site-packages\\ipywidgets\\widgets\\widget.py:409: DeprecationWarning: Passing unrecoginized arguments to super(FigureCanvasNbAgg).__init__().\n",
      "__init__() missing 1 required positional argument: 'figure'\n",
      "This is deprecated in traitlets 4.2.This error will be raised in a future release of traitlets.\n",
      "  super(Widget, self).__init__(**kwargs)\n"
     ]
    },
    {
     "data": {
      "application/vnd.jupyter.widget-view+json": {
       "model_id": "29025efafebb490683a8b1d78f8cd06d",
       "version_major": 2,
       "version_minor": 0
      },
      "text/html": [
       "<p>Failed to display Jupyter Widget of type <code>FigureCanvasNbAgg</code>.</p>\n",
       "<p>\n",
       "  If you're reading this message in the Jupyter Notebook or JupyterLab Notebook, it may mean\n",
       "  that the widgets JavaScript is still loading. If this message persists, it\n",
       "  likely means that the widgets JavaScript library is either not installed or\n",
       "  not enabled. See the <a href=\"https://ipywidgets.readthedocs.io/en/stable/user_install.html\">Jupyter\n",
       "  Widgets Documentation</a> for setup instructions.\n",
       "</p>\n",
       "<p>\n",
       "  If you're reading this message in another frontend (for example, a static\n",
       "  rendering on GitHub or <a href=\"https://nbviewer.jupyter.org/\">NBViewer</a>),\n",
       "  it may mean that your frontend doesn't currently support widgets.\n",
       "</p>\n"
      ],
      "text/plain": [
       "FigureCanvasNbAgg()"
      ]
     },
     "metadata": {},
     "output_type": "display_data"
    },
    {
     "data": {
      "text/plain": [
       "[<matplotlib.lines.Line2D at 0x2ed4d711dd8>]"
      ]
     },
     "execution_count": 7,
     "metadata": {},
     "output_type": "execute_result"
    }
   ],
   "source": [
    "feed_dict={time_nn:time.reshape(-1,1)}\n",
    "PredVec = sess.run([predictions], feed_dict=feed_dict) \n",
    "%matplotlib ipympl\n",
    "import matplotlib.pyplot as plt\n",
    "fig = plt.figure()\n",
    "ax = fig.add_subplot(1,1,1)\n",
    "ax.plot(time, noised_sinus1)\n",
    "ax.plot(time, noised_sinus2)\n",
    "ax.plot(time, PredVec[0])"
   ]
  },
  {
   "cell_type": "code",
   "execution_count": null,
   "metadata": {},
   "outputs": [],
   "source": []
  }
 ],
 "metadata": {
  "kernelspec": {
   "display_name": "Python 3",
   "language": "python",
   "name": "python3"
  },
  "language_info": {
   "codemirror_mode": {
    "name": "ipython",
    "version": 3
   },
   "file_extension": ".py",
   "mimetype": "text/x-python",
   "name": "python",
   "nbconvert_exporter": "python",
   "pygments_lexer": "ipython3",
   "version": "3.6.4"
  }
 },
 "nbformat": 4,
 "nbformat_minor": 2
}
