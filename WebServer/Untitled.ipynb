{
 "cells": [
  {
   "cell_type": "code",
   "execution_count": null,
   "metadata": {},
   "outputs": [
    {
     "name": "stderr",
     "output_type": "stream",
     "text": [
      "[20/Apr/2018:18:27:34]  hello there\n",
      "[20/Apr/2018:18:27:34] ENGINE Listening for SIGTERM.\n",
      "[20/Apr/2018:18:27:34] ENGINE Bus STARTING\n",
      "[20/Apr/2018:18:27:34] ENGINE Set handler for console events.\n",
      "CherryPy Checker:\n",
      "The Application mounted at '/hi' has an empty config.\n",
      "\n",
      "[20/Apr/2018:18:27:34] ENGINE Started monitor thread 'Autoreloader'.\n",
      "[20/Apr/2018:18:27:34] ENGINE Serving on http://127.0.0.1:5000\n",
      "[20/Apr/2018:18:27:34] ENGINE Bus STARTED\n"
     ]
    },
    {
     "name": "stdout",
     "output_type": "stream",
     "text": [
      "127.0.0.1 - - [20/Apr/2018:18:28:22] \"GET /hi/ HTTP/1.1\" 200 12 \"\" \"Mozilla/5.0 (Windows NT 10.0; Win64; x64) AppleWebKit/537.36 (KHTML, like Gecko) Chrome/66.0.3359.117 Safari/537.36\"\n",
      "127.0.0.1 - - [20/Apr/2018:18:28:52] \"GET /hi/ HTTP/1.1\" 200 12 \"\" \"Mozilla/5.0 (Windows NT 10.0; Win64; x64) AppleWebKit/537.36 (KHTML, like Gecko) Chrome/66.0.3359.117 Safari/537.36\"\n"
     ]
    }
   ],
   "source": [
    "import cherrypy\n",
    "\n",
    "class HelloWorld(object):\n",
    "    @cherrypy.expose\n",
    "    def index(self):\n",
    "        return \"Hello World!\"\n",
    "    \n",
    "cherrypy.config.update({\n",
    "        'engine.autoreload_on': True,\n",
    "        'log.screen': True,\n",
    "        'log.access_file': \"cherrypy.log\",\n",
    "        'server.socket_port': 5000,\n",
    "        'server.thread_pool': 50, # 10 is default\n",
    "    })\n",
    "\n",
    "\n",
    "    \n",
    "cherrypy.log(\"hello there\")\n",
    "cherrypy.quickstart(HelloWorld(), '/hi/')\n"
   ]
  },
  {
   "cell_type": "code",
   "execution_count": null,
   "metadata": {},
   "outputs": [],
   "source": []
  }
 ],
 "metadata": {
  "kernelspec": {
   "display_name": "Python 3",
   "language": "python",
   "name": "python3"
  },
  "language_info": {
   "codemirror_mode": {
    "name": "ipython",
    "version": 3
   },
   "file_extension": ".py",
   "mimetype": "text/x-python",
   "name": "python",
   "nbconvert_exporter": "python",
   "pygments_lexer": "ipython3",
   "version": "3.6.4"
  }
 },
 "nbformat": 4,
 "nbformat_minor": 2
}
