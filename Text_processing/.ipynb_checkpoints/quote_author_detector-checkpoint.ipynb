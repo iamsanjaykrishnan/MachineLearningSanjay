{
 "cells": [
  {
   "cell_type": "markdown",
   "metadata": {},
   "source": [
    "# Read text from a text file"
   ]
  },
  {
   "cell_type": "code",
   "execution_count": 1,
   "metadata": {},
   "outputs": [],
   "source": [
    "import logging\n",
    "import numpy as np\n",
    "logging.basicConfig(level=logging.CRITICAL,)\n",
    "\n",
    "path='InputText.txt'                   \n",
    "input_text = open(path, 'r') \n",
    "raw_text=input_text.readlines()"
   ]
  },
  {
   "cell_type": "markdown",
   "metadata": {},
   "source": [
    "#### empty lines from raw text input"
   ]
  },
  {
   "cell_type": "code",
   "execution_count": 2,
   "metadata": {},
   "outputs": [],
   "source": [
    "Striped_text=[]\n",
    "\n",
    "for line in raw_text:\n",
    "    if not(line.strip()):\n",
    "        pass\n",
    "    else:\n",
    "        Striped_text.append(line)\n",
    "        \n",
    "raw_text=Striped_text\n",
    "logging.debug(raw_text)"
   ]
  },
  {
   "cell_type": "markdown",
   "metadata": {},
   "source": [
    "###### Import text processing libraries"
   ]
  },
  {
   "cell_type": "code",
   "execution_count": 3,
   "metadata": {},
   "outputs": [],
   "source": [
    "import nltk\n",
    "from nltk import sent_tokenize\n",
    "from nltk import word_tokenize"
   ]
  },
  {
   "cell_type": "markdown",
   "metadata": {},
   "source": [
    "## Preprocessing text \n",
    "- RawTextFormat : Nr. 'quote' -- Author\n",
    "- Remove numbers\n",
    "- make a dictionary for each sentence \n",
    "       - quote \n",
    "       - author"
   ]
  },
  {
   "cell_type": "code",
   "execution_count": 4,
   "metadata": {},
   "outputs": [],
   "source": [
    "processed_senteces=[]                                 # empty list for storing processed dict for each quote\n",
    "logging.debug(len(raw_text))\n",
    "\n",
    "for i in range(len(raw_text)):\n",
    "    sentence = raw_text[i]\n",
    "    tokenized_sentence = sent_tokenize(sentence)\n",
    "    logging.debug(tokenized_sentence)\n",
    "    \n",
    "    for j in range(len(tokenized_sentence)):         # remove \"\" and -- from each sentence\n",
    "        tokenized_sentence[j] = tokenized_sentence[j].replace('\"','')\n",
    "        tokenized_sentence[j] = tokenized_sentence[j].replace('-- ','')\n",
    "        tokenized_sentence[j] = tokenized_sentence[j].replace('--','')\n",
    "        \n",
    "    quote=[]                                        # create list to store characters of quote\n",
    "    for k in range(1,len(tokenized_sentence)-1):\n",
    "        quote += tokenized_sentence[k]\n",
    "    quote = _.join(quote)                           # join the characters in quote to str\n",
    "    logging.debug(quote)\n",
    "    \n",
    "    content = {'quote':quote, 'author':tokenized_sentence[len(tokenized_sentence)-1]}\n",
    "                                                    # Dictionary to store quote and author name for each \n",
    "                                                    # sentence\n",
    "    processed_senteces.append(content)\n",
    "    \n",
    "logging.debug(processed_senteces)\n",
    "logging.debug(processed_senteces[1]['quote'])"
   ]
  },
  {
   "cell_type": "markdown",
   "metadata": {},
   "source": [
    "- create own gensim wordvector"
   ]
  },
  {
   "cell_type": "code",
   "execution_count": 5,
   "metadata": {},
   "outputs": [],
   "source": [
    "skipogramText = []                                  # create list for word vectors to be derived from\n",
    "\n",
    "for i in range(len(processed_senteces)):            # Word tokenize the sentences\n",
    "    processed_senteces[i]['quote'] = word_tokenize(processed_senteces[i]['quote'])\n",
    "    temp = list(processed_senteces[i]['quote'])\n",
    "    temp.append(processed_senteces[i]['author'])\n",
    "    skipogramText.append(temp)\n",
    "    \n",
    "logging.debug(skipogramText[1])\n",
    "logging.debug(processed_senteces[0]['quote'])"
   ]
  },
  {
   "cell_type": "code",
   "execution_count": 6,
   "metadata": {},
   "outputs": [
    {
     "name": "stderr",
     "output_type": "stream",
     "text": [
      "c:\\users\\sanjay\\anaconda3\\lib\\site-packages\\gensim\\utils.py:1197: UserWarning: detected Windows; aliasing chunkize to chunkize_serial\n",
      "  warnings.warn(\"detected Windows; aliasing chunkize to chunkize_serial\")\n"
     ]
    }
   ],
   "source": [
    "from gensim.models import Word2Vec\n",
    "\n",
    "model = Word2Vec(skipogramText, min_count=1, sg=0)\n",
    "logging.debug(model)"
   ]
  },
  {
   "cell_type": "markdown",
   "metadata": {},
   "source": [
    "#### Example for reading vector and using similarity in gensim"
   ]
  },
  {
   "cell_type": "code",
   "execution_count": 7,
   "metadata": {},
   "outputs": [],
   "source": [
    "#print(processed_senteces[0]['quote'])\n",
    "vector = model.wv.get_vector('Success')                              # Geting the word vector\n",
    "#print(vector)\n",
    "similarWord = model.wv.most_similar(positive=[vector], topn=100)     # Vector to word\n",
    "#print(similarWord)"
   ]
  },
  {
   "cell_type": "code",
   "execution_count": 14,
   "metadata": {},
   "outputs": [],
   "source": [
    "VectorizedQuote = []                                                # create Word vector for all words in \n",
    "                                                                    # the processed sentences\n",
    "VectorizedAuthor = []  \n",
    "for i in range(len(processed_senteces)):\n",
    "    len_quote=len(processed_senteces[i]['quote'])\n",
    "    temp = np.empty([len_quote,100])\n",
    "    for j in range(len_quote):\n",
    "        temp[j][:]=model.wv.get_vector(processed_senteces[i]['quote'][j])\n",
    "    VectorizedQuote.append(np.copy(temp))\n",
    "    temp=model.wv.get_vector(processed_senteces[i]['author'])\n",
    "    VectorizedAuthor.append(np.copy(temp))\n",
    "    logging.debug(model.wv.most_similar(positive=[VectorizedAuthor[i]], topn=1))"
   ]
  },
  {
   "cell_type": "markdown",
   "metadata": {},
   "source": [
    "- Create a neural network that can read quotes and predict author"
   ]
  },
  {
   "cell_type": "code",
   "execution_count": null,
   "metadata": {},
   "outputs": [],
   "source": [
    "import tensorflow as tf                                             # Create a tf neural network model \n",
    "\n",
    "inputVec = tf.placeholder(tf.float32, shape=(None, None, 100))      # Lstm\n",
    "lstmCellFw = tf.contrib.rnn.LSTMCell(num_units=100, name='Lstm01')\n",
    "_, state = tf.nn.dynamic_rnn(lstmCell, inputVec, scope='DynamicLsmt01', dtype=tf.float32)\n",
    "state=tf.concat(state, 0)\n",
    "predictions = tf.layers.dense(state, 100)\n",
    "labels = tf.placeholder(tf.float32, shape=(None, 100))  \n",
    "\n",
    "loss = tf.losses.mean_squared_error(labels, predictions)            # define loss\n",
    "\n",
    "Optimizer = tf.train.AdamOptimizer().minimize(loss)"
   ]
  },
  {
   "cell_type": "code",
   "execution_count": null,
   "metadata": {},
   "outputs": [],
   "source": []
  }
 ],
 "metadata": {
  "kernelspec": {
   "display_name": "Python 3",
   "language": "python",
   "name": "python3"
  },
  "language_info": {
   "codemirror_mode": {
    "name": "ipython",
    "version": 3
   },
   "file_extension": ".py",
   "mimetype": "text/x-python",
   "name": "python",
   "nbconvert_exporter": "python",
   "pygments_lexer": "ipython3",
   "version": "3.6.4"
  }
 },
 "nbformat": 4,
 "nbformat_minor": 2
}
