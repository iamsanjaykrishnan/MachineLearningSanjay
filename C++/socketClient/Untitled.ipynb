{
 "cells": [
  {
   "cell_type": "code",
   "execution_count": 1,
   "metadata": {},
   "outputs": [
    {
     "name": "stdout",
     "output_type": "stream",
     "text": [
      "Connection address: ('127.0.0.1', 41814)\n",
      "received data: b'Hello from client'\n"
     ]
    }
   ],
   "source": [
    "import socket\n",
    "\n",
    "TCP_IP = '127.0.0.1'\n",
    "TCP_PORT = 5005\n",
    "BUFFER_SIZE = 20  # Normally 1024, but we want fast response\n",
    "\n",
    "s = socket.socket(socket.AF_INET, socket.SOCK_STREAM)\n",
    "s.bind((TCP_IP, TCP_PORT))\n",
    "s.listen(1)\n",
    "\n",
    "conn, addr = s.accept()\n",
    "message = \"bonjour\"\n",
    "print('Connection address:', addr)\n",
    "while 1:\n",
    "    data = conn.recv(BUFFER_SIZE)\n",
    "    if not data: break\n",
    "    print(\"received data:\", data)\n",
    "    conn.send(message.encode())  # echo\n",
    "conn.close()"
   ]
  },
  {
   "cell_type": "code",
   "execution_count": null,
   "metadata": {},
   "outputs": [],
   "source": []
  }
 ],
 "metadata": {
  "kernelspec": {
   "display_name": "Python 3",
   "language": "python",
   "name": "python3"
  },
  "language_info": {
   "codemirror_mode": {
    "name": "ipython",
    "version": 3
   },
   "file_extension": ".py",
   "mimetype": "text/x-python",
   "name": "python",
   "nbconvert_exporter": "python",
   "pygments_lexer": "ipython3",
   "version": "3.7.3"
  }
 },
 "nbformat": 4,
 "nbformat_minor": 2
}
