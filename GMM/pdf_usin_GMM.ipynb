{
 "cells": [
  {
   "cell_type": "code",
   "execution_count": 1,
   "metadata": {},
   "outputs": [],
   "source": [
    "from sklearn.mixture import GaussianMixture\n",
    "import numpy as np"
   ]
  },
  {
   "cell_type": "code",
   "execution_count": 14,
   "metadata": {},
   "outputs": [],
   "source": [
    "samples=np.random.normal(0,1,2000)"
   ]
  },
  {
   "cell_type": "code",
   "execution_count": 15,
   "metadata": {},
   "outputs": [
    {
     "data": {
      "application/vnd.jupyter.widget-view+json": {
       "model_id": "a506b585548845b2a00f49bf90367d69",
       "version_major": 2,
       "version_minor": 0
      },
      "text/html": [
       "<p>Failed to display Jupyter Widget of type <code>FigureCanvasNbAgg</code>.</p>\n",
       "<p>\n",
       "  If you're reading this message in the Jupyter Notebook or JupyterLab Notebook, it may mean\n",
       "  that the widgets JavaScript is still loading. If this message persists, it\n",
       "  likely means that the widgets JavaScript library is either not installed or\n",
       "  not enabled. See the <a href=\"https://ipywidgets.readthedocs.io/en/stable/user_install.html\">Jupyter\n",
       "  Widgets Documentation</a> for setup instructions.\n",
       "</p>\n",
       "<p>\n",
       "  If you're reading this message in another frontend (for example, a static\n",
       "  rendering on GitHub or <a href=\"https://nbviewer.jupyter.org/\">NBViewer</a>),\n",
       "  it may mean that your frontend doesn't currently support widgets.\n",
       "</p>\n"
      ],
      "text/plain": [
       "FigureCanvasNbAgg()"
      ]
     },
     "metadata": {},
     "output_type": "display_data"
    },
    {
     "data": {
      "text/plain": [
       "(array([0.00741118, 0.        , 0.01482235, 0.00741118, 0.        ,\n",
       "        0.        , 0.00741118, 0.01482235, 0.01482235, 0.        ,\n",
       "        0.00741118, 0.02964471, 0.01482235, 0.        , 0.03705588,\n",
       "        0.01482235, 0.02223353, 0.02964471, 0.04446706, 0.06670059,\n",
       "        0.08152294, 0.07411177, 0.08893412, 0.05928941, 0.14081236,\n",
       "        0.10375648, 0.11116765, 0.11857883, 0.17045707, 0.16304589,\n",
       "        0.21492413, 0.17045707, 0.22974648, 0.27421354, 0.2223353 ,\n",
       "        0.21492413, 0.26680237, 0.38538119, 0.31126943, 0.35573649,\n",
       "        0.45949296, 0.42984826, 0.37055884, 0.39279237, 0.37797002,\n",
       "        0.42243708, 0.3186806 , 0.34832531, 0.45208179, 0.34091413,\n",
       "        0.22974648, 0.44467061, 0.30385825, 0.37055884, 0.45949296,\n",
       "        0.37055884, 0.32609178, 0.4150259 , 0.30385825, 0.26680237,\n",
       "        0.25198001, 0.34832531, 0.2890359 , 0.24456883, 0.22974648,\n",
       "        0.23715766, 0.11116765, 0.21492413, 0.12599001, 0.15563471,\n",
       "        0.10375648, 0.11116765, 0.11857883, 0.0963453 , 0.10375648,\n",
       "        0.05187824, 0.02964471, 0.07411177, 0.04446706, 0.05187824,\n",
       "        0.05928941, 0.04446706, 0.02964471, 0.00741118, 0.05928941,\n",
       "        0.02223353, 0.        , 0.02223353, 0.01482235, 0.01482235,\n",
       "        0.        , 0.00741118, 0.        , 0.00741118, 0.00741118,\n",
       "        0.00741118, 0.        , 0.00741118, 0.01482235, 0.00741118]),\n",
       " array([-3.30453356e+00, -3.23706789e+00, -3.16960222e+00, -3.10213656e+00,\n",
       "        -3.03467089e+00, -2.96720522e+00, -2.89973955e+00, -2.83227388e+00,\n",
       "        -2.76480821e+00, -2.69734254e+00, -2.62987687e+00, -2.56241121e+00,\n",
       "        -2.49494554e+00, -2.42747987e+00, -2.36001420e+00, -2.29254853e+00,\n",
       "        -2.22508286e+00, -2.15761719e+00, -2.09015153e+00, -2.02268586e+00,\n",
       "        -1.95522019e+00, -1.88775452e+00, -1.82028885e+00, -1.75282318e+00,\n",
       "        -1.68535751e+00, -1.61789184e+00, -1.55042618e+00, -1.48296051e+00,\n",
       "        -1.41549484e+00, -1.34802917e+00, -1.28056350e+00, -1.21309783e+00,\n",
       "        -1.14563216e+00, -1.07816649e+00, -1.01070083e+00, -9.43235157e-01,\n",
       "        -8.75769488e-01, -8.08303819e-01, -7.40838150e-01, -6.73372482e-01,\n",
       "        -6.05906813e-01, -5.38441144e-01, -4.70975476e-01, -4.03509807e-01,\n",
       "        -3.36044138e-01, -2.68578469e-01, -2.01112801e-01, -1.33647132e-01,\n",
       "        -6.61814631e-02,  1.28420559e-03,  6.87498743e-02,  1.36215543e-01,\n",
       "         2.03681212e-01,  2.71146881e-01,  3.38612549e-01,  4.06078218e-01,\n",
       "         4.73543887e-01,  5.41009555e-01,  6.08475224e-01,  6.75940893e-01,\n",
       "         7.43406562e-01,  8.10872230e-01,  8.78337899e-01,  9.45803568e-01,\n",
       "         1.01326924e+00,  1.08073491e+00,  1.14820057e+00,  1.21566624e+00,\n",
       "         1.28313191e+00,  1.35059758e+00,  1.41806325e+00,  1.48552892e+00,\n",
       "         1.55299459e+00,  1.62046026e+00,  1.68792592e+00,  1.75539159e+00,\n",
       "         1.82285726e+00,  1.89032293e+00,  1.95778860e+00,  2.02525427e+00,\n",
       "         2.09271994e+00,  2.16018560e+00,  2.22765127e+00,  2.29511694e+00,\n",
       "         2.36258261e+00,  2.43004828e+00,  2.49751395e+00,  2.56497962e+00,\n",
       "         2.63244529e+00,  2.69991095e+00,  2.76737662e+00,  2.83484229e+00,\n",
       "         2.90230796e+00,  2.96977363e+00,  3.03723930e+00,  3.10470497e+00,\n",
       "         3.17217064e+00,  3.23963630e+00,  3.30710197e+00,  3.37456764e+00,\n",
       "         3.44203331e+00]),\n",
       " <a list of 100 Patch objects>)"
      ]
     },
     "execution_count": 15,
     "metadata": {},
     "output_type": "execute_result"
    }
   ],
   "source": [
    "%matplotlib ipympl\n",
    "import matplotlib.pyplot as plt\n",
    "fig = plt.figure()\n",
    "ax = fig.add_subplot(1,1,1)\n",
    "ax.hist(samples,100,density=1)"
   ]
  },
  {
   "cell_type": "code",
   "execution_count": 16,
   "metadata": {},
   "outputs": [
    {
     "data": {
      "application/vnd.jupyter.widget-view+json": {
       "model_id": "f00ff61a12db436d989729e8caff49c3",
       "version_major": 2,
       "version_minor": 0
      },
      "text/html": [
       "<p>Failed to display Jupyter Widget of type <code>FigureCanvasNbAgg</code>.</p>\n",
       "<p>\n",
       "  If you're reading this message in the Jupyter Notebook or JupyterLab Notebook, it may mean\n",
       "  that the widgets JavaScript is still loading. If this message persists, it\n",
       "  likely means that the widgets JavaScript library is either not installed or\n",
       "  not enabled. See the <a href=\"https://ipywidgets.readthedocs.io/en/stable/user_install.html\">Jupyter\n",
       "  Widgets Documentation</a> for setup instructions.\n",
       "</p>\n",
       "<p>\n",
       "  If you're reading this message in another frontend (for example, a static\n",
       "  rendering on GitHub or <a href=\"https://nbviewer.jupyter.org/\">NBViewer</a>),\n",
       "  it may mean that your frontend doesn't currently support widgets.\n",
       "</p>\n"
      ],
      "text/plain": [
       "FigureCanvasNbAgg()"
      ]
     },
     "metadata": {},
     "output_type": "display_data"
    },
    {
     "data": {
      "text/plain": [
       "[<matplotlib.lines.Line2D at 0x17a2f9ccfd0>]"
      ]
     },
     "execution_count": 16,
     "metadata": {},
     "output_type": "execute_result"
    }
   ],
   "source": [
    "clf=GaussianMixture(2)\n",
    "data=samples.reshape(-1,1)\n",
    "model=clf.fit(data)\n",
    "xpdf=np.linspace(-4,4,2000)\n",
    "xpdf=xpdf.reshape(-1,1)\n",
    "%matplotlib ipympl\n",
    "import matplotlib.pyplot as plt\n",
    "fig = plt.figure()\n",
    "ax = fig.add_subplot(1,1,1)\n",
    "ax.hist(samples,100,density=1)\n",
    "density=np.exp(model.score_samples(xpdf))\n",
    "ax.plot(xpdf,density)"
   ]
  },
  {
   "cell_type": "code",
   "execution_count": null,
   "metadata": {},
   "outputs": [],
   "source": []
  },
  {
   "cell_type": "code",
   "execution_count": null,
   "metadata": {},
   "outputs": [],
   "source": []
  }
 ],
 "metadata": {
  "kernelspec": {
   "display_name": "Python 3",
   "language": "python",
   "name": "python3"
  },
  "language_info": {
   "codemirror_mode": {
    "name": "ipython",
    "version": 3
   },
   "file_extension": ".py",
   "mimetype": "text/x-python",
   "name": "python",
   "nbconvert_exporter": "python",
   "pygments_lexer": "ipython3",
   "version": "3.6.4"
  }
 },
 "nbformat": 4,
 "nbformat_minor": 2
}
