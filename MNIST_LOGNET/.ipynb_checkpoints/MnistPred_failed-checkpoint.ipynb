{
 "cells": [
  {
   "cell_type": "markdown",
   "metadata": {},
   "source": [
    "# import mnist data"
   ]
  },
  {
   "cell_type": "code",
   "execution_count": 1,
   "metadata": {},
   "outputs": [
    {
     "name": "stderr",
     "output_type": "stream",
     "text": [
      "c:\\users\\sanjay\\anaconda3\\lib\\site-packages\\h5py\\__init__.py:36: FutureWarning: Conversion of the second argument of issubdtype from `float` to `np.floating` is deprecated. In future, it will be treated as `np.float64 == np.dtype(float).type`.\n",
      "  from ._conv import register_converters as _register_converters\n"
     ]
    },
    {
     "name": "stdout",
     "output_type": "stream",
     "text": [
      "WARNING:tensorflow:From c:\\users\\sanjay\\anaconda3\\lib\\site-packages\\tensorflow\\contrib\\learn\\python\\learn\\datasets\\base.py:198: retry (from tensorflow.contrib.learn.python.learn.datasets.base) is deprecated and will be removed in a future version.\n",
      "Instructions for updating:\n",
      "Use the retry module or similar alternatives.\n",
      "WARNING:tensorflow:From <ipython-input-1-93d8da72a918>:2: read_data_sets (from tensorflow.contrib.learn.python.learn.datasets.mnist) is deprecated and will be removed in a future version.\n",
      "Instructions for updating:\n",
      "Please use alternatives such as official/mnist/dataset.py from tensorflow/models.\n",
      "WARNING:tensorflow:From c:\\users\\sanjay\\anaconda3\\lib\\site-packages\\tensorflow\\contrib\\learn\\python\\learn\\datasets\\mnist.py:260: maybe_download (from tensorflow.contrib.learn.python.learn.datasets.base) is deprecated and will be removed in a future version.\n",
      "Instructions for updating:\n",
      "Please write your own downloading logic.\n",
      "WARNING:tensorflow:From c:\\users\\sanjay\\anaconda3\\lib\\site-packages\\tensorflow\\contrib\\learn\\python\\learn\\datasets\\mnist.py:262: extract_images (from tensorflow.contrib.learn.python.learn.datasets.mnist) is deprecated and will be removed in a future version.\n",
      "Instructions for updating:\n",
      "Please use tf.data to implement this functionality.\n",
      "Extracting MNIST_data\\train-images-idx3-ubyte.gz\n",
      "WARNING:tensorflow:From c:\\users\\sanjay\\anaconda3\\lib\\site-packages\\tensorflow\\contrib\\learn\\python\\learn\\datasets\\mnist.py:267: extract_labels (from tensorflow.contrib.learn.python.learn.datasets.mnist) is deprecated and will be removed in a future version.\n",
      "Instructions for updating:\n",
      "Please use tf.data to implement this functionality.\n",
      "Extracting MNIST_data\\train-labels-idx1-ubyte.gz\n",
      "WARNING:tensorflow:From c:\\users\\sanjay\\anaconda3\\lib\\site-packages\\tensorflow\\contrib\\learn\\python\\learn\\datasets\\mnist.py:110: dense_to_one_hot (from tensorflow.contrib.learn.python.learn.datasets.mnist) is deprecated and will be removed in a future version.\n",
      "Instructions for updating:\n",
      "Please use tf.one_hot on tensors.\n",
      "Extracting MNIST_data\\t10k-images-idx3-ubyte.gz\n",
      "Extracting MNIST_data\\t10k-labels-idx1-ubyte.gz\n",
      "WARNING:tensorflow:From c:\\users\\sanjay\\anaconda3\\lib\\site-packages\\tensorflow\\contrib\\learn\\python\\learn\\datasets\\mnist.py:290: DataSet.__init__ (from tensorflow.contrib.learn.python.learn.datasets.mnist) is deprecated and will be removed in a future version.\n",
      "Instructions for updating:\n",
      "Please use alternatives such as official/mnist/dataset.py from tensorflow/models.\n"
     ]
    }
   ],
   "source": [
    "from tensorflow.examples.tutorials.mnist import input_data\n",
    "mnist = input_data.read_data_sets('MNIST_data', one_hot=True)"
   ]
  },
  {
   "cell_type": "code",
   "execution_count": 2,
   "metadata": {},
   "outputs": [
    {
     "name": "stdout",
     "output_type": "stream",
     "text": [
      "Tensor(\"Reshape:0\", shape=(?, 28, 28, 1), dtype=float32)\n",
      "Tensor(\"Softplus:0\", shape=(?, 28, 28, 1), dtype=float32)\n",
      "Tensor(\"Selu:0\", shape=(?, 7, 28, 5), dtype=float32)\n",
      "Tensor(\"Selu_1:0\", shape=(?, 7, 28, 5), dtype=float32)\n",
      "Tensor(\"Selu_2:0\", shape=(?, 7, 28, 20), dtype=float32)\n"
     ]
    }
   ],
   "source": [
    "import tensorflow as tf\n",
    "tf.reset_default_graph()\n",
    "# inputs\n",
    "x = tf.placeholder(tf.float32, shape=[None, 784])\n",
    "labels = tf.placeholder(tf.float32, shape=[None, 10])\n",
    "\n",
    "x_image = tf.reshape(x, [-1,28,28,1])\n",
    "hidden = x_image\n",
    "print(hidden)\n",
    "# hidden 1\n",
    "hidden = hidden\n",
    "hidden = tf.layers.conv2d(hidden,filters=1,kernel_size=1,strides=(1, 1), padding='same',)\n",
    "hidden = tf.nn.softplus(hidden)\n",
    "print(hidden)\n",
    "# hidden 2 multiplication layer\n",
    "hidden = hidden+0.01\n",
    "hidden = tf.log(hidden)# kernel[w,h,inC,OutC] \n",
    "hidden = tf.layers.conv2d(hidden,filters=5,kernel_size=3,strides=(2, 1), padding='same',)\n",
    "hidden = tf.exp(hidden)\n",
    "hidden = tf.layers.conv2d(hidden,filters=5,kernel_size=3,strides=(2, 1), padding='same',)\n",
    "hidden = tf.nn.selu(hidden)\n",
    "print(hidden)\n",
    "# hidden 3\n",
    "hidden = tf.layers.conv2d(hidden,filters=5,kernel_size=1,strides=(1, 1), padding='same',)\n",
    "#hidden = tf.layers.\n",
    "hidden = tf.nn.selu(hidden)\n",
    "print(hidden)\n",
    "# hidden 4\n",
    "hidden = tf.layers.conv2d(hidden,filters=20,kernel_size=3,strides=(1, 1), padding='same',)\n",
    "hidden = tf.layers.max_pooling2d(hidden,pool_size=3,strides=(1, 1), padding='same',)\n",
    "hidden = tf.nn.selu(hidden)\n",
    "print(hidden)\n",
    "# flatten and predict\n",
    "hidden = tf.layers.flatten(hidden)\n",
    "hidden = tf.layers.dense(hidden, 10)\n",
    "Pred = tf.nn.selu(hidden)\n",
    "\n",
    "# Loss and summary\n",
    "loss = tf.losses.softmax_cross_entropy(labels,Pred)\n",
    "lossSummary = tf.summary.scalar('Loss', loss)\n",
    "Optimizer = tf.train.AdamOptimizer().minimize(loss)\n",
    "\n",
    "correct_prediction = tf.equal(tf.argmax(Pred,1), tf.argmax(labels,1))\n",
    "accuracy = tf.reduce_mean(tf.cast(correct_prediction, tf.float32))\n",
    "accuracySummary = tf.summary.scalar('accuracy', accuracy)"
   ]
  },
  {
   "cell_type": "code",
   "execution_count": null,
   "metadata": {},
   "outputs": [],
   "source": [
    "import time as Time\n",
    "sess=tf.Session()  \n",
    "sess.run(tf.global_variables_initializer())\n",
    "train_writer = tf.summary.FileWriter('summary\\\\'+Time.strftime('%H_%M_%S'), sess.graph)\n",
    "for i in range(20000):\n",
    "    feed_dict={x:mnist.test.images, labels:mnist.test.labels}\n",
    "    _, lossS ,accSumm= sess.run([Optimizer, lossSummary,accuracySummary], feed_dict=feed_dict) \n",
    "    train_writer.add_summary(lossS, i)\n",
    "    train_writer.add_summary(accSumm, i)"
   ]
  },
  {
   "cell_type": "code",
   "execution_count": null,
   "metadata": {},
   "outputs": [],
   "source": []
  }
 ],
 "metadata": {
  "kernelspec": {
   "display_name": "Python 3",
   "language": "python",
   "name": "python3"
  },
  "language_info": {
   "codemirror_mode": {
    "name": "ipython",
    "version": 3
   },
   "file_extension": ".py",
   "mimetype": "text/x-python",
   "name": "python",
   "nbconvert_exporter": "python",
   "pygments_lexer": "ipython3",
   "version": "3.6.4"
  }
 },
 "nbformat": 4,
 "nbformat_minor": 2
}
